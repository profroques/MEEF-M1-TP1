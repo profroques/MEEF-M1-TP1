{
 "cells": [
  {
   "cell_type": "markdown",
   "id": "bd5b44ca",
   "metadata": {},
   "source": [
    "<div class=\"licence\">\n",
    "<span>Licence CC BY-NC-ND</span>\n",
    "<span>Thierry Parmentelat &amp; Arnaud Legout</span>\n",
    "<span><img src=\"media/both-logos-small-alpha.png\" /></span>\n",
    "</div>"
   ]
  },
  {
   "cell_type": "markdown",
   "id": "a4749293",
   "metadata": {},
   "source": [
    "# Gestion de la mémoire"
   ]
  },
  {
   "cell_type": "markdown",
   "id": "6ef41c7f",
   "metadata": {},
   "source": [
    "## Complément - niveau basique"
   ]
  },
  {
   "cell_type": "markdown",
   "id": "82f65ca3",
   "metadata": {},
   "source": [
    "L'objet de ce complément est de vous montrer qu'avec Python vous n'avez pas à vous préoccuper de la mémoire. Pour expliquer la notion de gestion de la mémoire, il nous faut donner un certain nombre de détails sur d'autres langages comme C et C++. Si vous souhaitez suivre ce cours à un niveau basique vous pouvez ignorer ce complément et seulement retenir que Python se charge de tout pour vous :)"
   ]
  },
  {
   "cell_type": "markdown",
   "id": "8b0a53b3",
   "metadata": {},
   "source": [
    "## Complément - niveau intermédiaire"
   ]
  },
  {
   "cell_type": "markdown",
   "id": "74c6153f",
   "metadata": {},
   "source": [
    "### Langages de bas niveau"
   ]
  },
  {
   "cell_type": "markdown",
   "id": "82dec653",
   "metadata": {},
   "source": [
    "Dans un langage traditionnel de bas niveau comme C ou C++, le programmeur est en charge de l'allocation - et donc de la libération - de la mémoire.\n",
    "\n",
    "Ce qui signifie que, sauf pour les valeurs stockées dans la pile, le programmeur est amené :\n",
    "\n",
    " * à réclamer de la mémoire au système d'exploitation en appelant explicitement `malloc` (C) ou `new` (C++) ;\n",
    " * et réciproquement à rendre cette mémoire au système d'exploitation lorsqu'elle n'est plus utilisée, en appelant `free` (C) ou `delete` (C++)."
   ]
  },
  {
   "cell_type": "markdown",
   "id": "11143392",
   "metadata": {},
   "source": [
    "Avec ce genre de langage, la gestion de la mémoire est un aspect important de la programmation. Ce modèle offre une grande flexibilité, mais au prix d'un coût élevé en matière de vitesse de développement.\n",
    "\n",
    "En effet, il est assez facile d'oublier de libérer la mémoire après usage, ce qui peut conduire à épuiser les ressources disponibles. À l'inverse, utiliser une zone mémoire non allouée peut conduire à des bugs très difficiles à localiser et à des problèmes de sécurité majeurs. Notons qu'une grande partie des attaques en informatique reposent sur l'exploitation d'erreurs de gestion de la mémoire."
   ]
  },
  {
   "cell_type": "markdown",
   "id": "050da006",
   "metadata": {},
   "source": [
    "### Langages de haut niveau"
   ]
  },
  {
   "cell_type": "markdown",
   "id": "cb60eabd",
   "metadata": {},
   "source": [
    "Pour toutes ces raisons, avec un langage de plus haut niveau comme Python, le programmeur est libéré de cet aspect de la programmation.\n",
    "\n",
    "Pour anticiper un peu sur le cours des semaines suivantes, voici ce que vous pouvez garder en tête s'agissant de la gestion mémoire en Python :\n",
    "\n",
    "* vous créez vos objets au fur et à mesure de vos besoins ;\n",
    "\n",
    "* vous n'avez pas besoin de les libérer explicitement, le \"*Garbage Collector*\" de Python va s'en charger pour recycler la mémoire lorsque c'est possible ;\n",
    "\n",
    "* Python a tendance à être assez gourmand en mémoire, comparé à un langage de bas niveau, car tout est objet et chaque objet est assorti de *méta-informations* qui occupent une place non négligeable. Par exemple, chaque objet possède au minimum :\n",
    "  * une référence vers son type - c'est le prix du typage dynamique ;\n",
    "  * un compteur de références - le nombre d'autres valeurs (variables ou objets) qui pointent vers l'objet, cette information est notamment utilisée, précisément, par le *Garbage Collector* pour déterminer si la mémoire utilisée par un objet peut être libérée ou non.\n",
    "\n",
    "\n",
    "* un certain nombre de types prédéfinis et non mutables sont implémentés en Python comme des *singletons*, c'est-à-dire qu'un seul objet est créé et partagé, c'est le cas par exemple pour les petits entiers et les chaînes de caractères, on en reparlera ;\n",
    "\n",
    "* lorsqu'on implémente une classe, il est possible de lui conférer cette caractéristique de singleton, de manière à optimiser la mémoire nécessaire pour exécuter un programme."
   ]
  }
 ],
 "metadata": {
  "jupytext": {
   "cell_metadata_filter": "all, -hidden, -heading_collapsed, -run_control, -trusted",
   "notebook_metadata_filter": "all, -jupytext.text_representation.jupytext_version, -jupytext.text_representation.format_version, -language_info.version, -language_info.codemirror_mode.version, -language_info.codemirror_mode, -language_info.file_extension, -language_info.mimetype, -toc",
   "text_representation": {
    "extension": ".md",
    "format_name": "myst"
   }
  },
  "kernelspec": {
   "display_name": "Python 3",
   "language": "python",
   "name": "python3"
  },
  "language_info": {
   "name": "python",
   "nbconvert_exporter": "python",
   "pygments_lexer": "ipython3"
  },
  "notebookname": "Gestion de la mémoire",
  "version": "3.0"
 },
 "nbformat": 4,
 "nbformat_minor": 5
}
