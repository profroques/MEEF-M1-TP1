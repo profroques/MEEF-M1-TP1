{
 "cells": [
  {
   "cell_type": "markdown",
   "id": "4fcd6511",
   "metadata": {},
   "source": [
    "<div class=\"licence\">\n",
    "<b><span>Licence CC BY-NC-ND </span>\n",
    "    <span>Sarah Roques - Académie de Lyon</span></b>\n",
    "<br><span><img src=\"logo Licence CC BY-NC-ND.png\" alt=\"drawing\" width=\"100\"style=\"float:left\"/></span>\n",
    "</div>"
   ]
  },
  {
   "cell_type": "markdown",
   "id": "b5068ec8",
   "metadata": {},
   "source": [
    "<h3>NUMÉRIQUE - Module 1 - TP1 - Section 1.2</h3>"
   ]
  },
  {
   "cell_type": "markdown",
   "id": "1c5032a8",
   "metadata": {},
   "source": [
    "<center><h1> <span style=\"color:#337AB7\">NOTION DE TESTS ET D'OPÉRATEURS BOOLÉENS</span> </h1></center>"
   ]
  },
  {
   "cell_type": "markdown",
   "id": "44e4ee1c",
   "metadata": {},
   "source": [
    "<div class=\"panel panel-primary\">\n",
    "<div class=\"panel-heading\"><h2>Préambule :</h2></div>\n",
    "<div class=\"panel-body\">\n",
    "\n",
    "Lorsqu'on écrit des programmes, il faut maîtriser certaines  notions comme par exemple les tests. Nous allons faire \"ici\" un survol rapide de cette première notion clé à l'écriture de vrais programmes. L'instruction `if` `else` permet de réaliser une exécution conditionnelle : un morceau du code s'exécute en fonction du résultat d'un test qui est soit vrai soit faux.\n",
    "</div>\n",
    "</div>"
   ]
  },
  {
   "cell_type": "markdown",
   "id": "9f427475",
   "metadata": {},
   "source": [
    "<div class=\"alert alert-warning\">\n",
    "<h2><b>Structure d'un test</b></h2><br>\n",
    "<span><img src=\"diapo illustrations\\diapo - test - 1.jpeg\" alt=\"drawing\" width=\"800\"style=\"float:center\"/></span>\n",
    "<br>\n",
    "</div>"
   ]
  },
  {
   "cell_type": "markdown",
   "id": "7d58779b",
   "metadata": {},
   "source": [
    "<div class=\"alert alert-warning\">\n",
    "<h2><b>Outils utiles pour les tests</b></h2><br>\n",
    "<span><img src=\"diapo illustrations\\diapo - test - 2.jpeg\" alt=\"drawing\" width=\"800\"style=\"float:center\"/></span>\n",
    "<br>\n",
    "</div>"
   ]
  },
  {
   "cell_type": "markdown",
   "id": "08a4c60d",
   "metadata": {},
   "source": [
    "<div class=\"panel panel-default\">\n",
    "    <div class=\"panel-heading\"><h2>TEST D'APPARTENANCE</h2></div>\n",
    "    <div class=\"panel-body\">\n",
    "    \n",
    "Dans cette partie, nous allons (re)découvrir la rédaction de tests simples en commençant par le test d'appartenance avec l'expression `in` qui renvoie à `True` si l'objet testé appartient à une expression définie.\n",
    "    </div>\n",
    "</div>"
   ]
  },
  {
   "cell_type": "markdown",
   "id": "fae039e2",
   "metadata": {},
   "source": [
    "<h3 style = \"color : red\";>\n",
    "    On rappelle que le texte qui suit le symbole # est un commentaire qui n'est pas utile pour l'exécution du code mais qui permet d'expliciter l'action de la ligne commentée.\n",
    "</h3>\n",
    "<br>\n",
    "<p><b>Exécuter</b> le code suivant.</p> "
   ]
  },
  {
   "cell_type": "code",
   "execution_count": null,
   "id": "e934a86d",
   "metadata": {},
   "outputs": [],
   "source": [
    "if 'f' in 'meef': # si le caractère \"f\" appartient à la chaine de caractère \"meef\" le test est vrai et\n",
    "    print('OUI') # l'expression \"OUI\" apparait sur la console\n",
    "else: # si le test est Faux alors\n",
    "    print('NON') # l'expression \"NON\" apparait sur la console"
   ]
  },
  {
   "cell_type": "markdown",
   "id": "57d747db",
   "metadata": {},
   "source": [
    "<p>\n",
    "    On peut s'assurer que le programme précédent fonctionne de la même manière sans les commentaires ! Pour cela, exécuter le script suivant :</p>"
   ]
  },
  {
   "cell_type": "code",
   "execution_count": null,
   "id": "02c7195c",
   "metadata": {},
   "outputs": [],
   "source": [
    "if 'f' in 'meef':\n",
    "    print('OUI')\n",
    "else:\n",
    "    print('NON')"
   ]
  },
  {
   "cell_type": "markdown",
   "id": "f20ff8f1",
   "metadata": {},
   "source": [
    "<div class=\"panel panel-default\">\n",
    "    <div class=\"panel-heading\"><h2>COMPRÉHENSION DE CODE</h2></div>\n",
    "    <div class=\"panel-body\">\n",
    "\n",
    "Dans cette partie, je vous propose le script suivant : \n",
    "<br><br>\n",
    "```\n",
    "x=7\n",
    "test=x>10\n",
    "if test:\n",
    "    print(\"la variable x vaut : \",x,\"et le test est vrai\")\n",
    "else:\n",
    "    print(\"la variable x vaut : \",x,\"et le test est faux\")\n",
    "```\n",
    "<br><br>\n",
    "        **Questions :** \n",
    "1. Que fait chaque ligne du script précédent ?\n",
    "2. Quel sera la résultat de l'exécution de ce script ?\n",
    "<br>\n",
    "</div>\n",
    "</div>"
   ]
  },
  {
   "cell_type": "markdown",
   "id": "d61f81e2",
   "metadata": {},
   "source": [
    "Pour vérifier les réponses précédentes, exécuter le bloc suivant :"
   ]
  },
  {
   "cell_type": "code",
   "execution_count": null,
   "id": "ac6a46ec",
   "metadata": {},
   "outputs": [],
   "source": [
    "x=7\n",
    "test=x>10\n",
    "if test:\n",
    "    print(\"la variable x vaut : \",x,\"et le test est vrai\")\n",
    "else:\n",
    "    print(\"la variable x vaut : \",x,\"et le test est faux\")"
   ]
  },
  {
   "cell_type": "markdown",
   "id": "15d43c4c",
   "metadata": {},
   "source": [
    "*Le script précédent permet de réaliser un test : \n",
    "<br>celui de comparer la valeur d'une variable x à 10 : plus précisément, il s'agit de vérifier si la valeur de x est strictement supérieure à 10. Ce test de comparaison est affecté à une variable appelée <b>test</b>. On aurait pu l'appeler **bidule** ou autre.\n",
    "<br><br>\n",
    "Si le test est vrai (au sens `True` ) alors le texte <i>\"la variable de x vaut (suivie de la valeur de x) : le test est vrai\"</i> apparait.\n",
    "Si le est faux (`False` ) alors le texte <i>\"la variable de x vaut (suivie de la valeur de x) : le test est faux\"</i> apparait : c'est le cas dans la situation étudiée ici car x = 7 n'est pas strictement supérieur à 10.*"
   ]
  },
  {
   "cell_type": "markdown",
   "id": "2e7b5678",
   "metadata": {},
   "source": [
    "<p><b>Questions</b>\n",
    "\n",
    "1. Dans le script précédent, quel est le <i>type</i> de la variable `test` ?\n",
    "2. Dans le bloc suivant, <b>remplacer</b> l'expression `--- SAISIR UNE LIGNE DE SCRIPT---` par une commande adaptée puis <b>exécuter</b> le bloc pour vérifier la réponse précédente.\n",
    "</p>"
   ]
  },
  {
   "cell_type": "code",
   "execution_count": null,
   "id": "a0e480a7",
   "metadata": {},
   "outputs": [],
   "source": [
    "#--- SAISIR UNE LIGNE DE SCRIPT---"
   ]
  },
  {
   "cell_type": "markdown",
   "id": "750ebec6",
   "metadata": {},
   "source": [
    "<div class=\"panel panel-default\">\n",
    "    <div class=\"panel-heading\"><h2>L'INSTRUCTION PASS</h2></div>\n",
    "    <div class=\"panel-body\">\n",
    "    \n",
    "Nous avons vu que les blocs d'exécution dans un contexte de test de type `if` `else` sont repérables par leur indentation (= décalage de 4 espaces par rapport à la marge de gauche).\n",
    "<br>\n",
    "Dans certains cas, il peut être utile de disposer d'une instruction qui ... ne fait rien ! Tel est le but de l'instruction `pass` que je vous propose de découvrir sommairement ici.\n",
    "    </div>\n",
    "</div>"
   ]
  },
  {
   "cell_type": "markdown",
   "id": "18cf3fb0",
   "metadata": {},
   "source": [
    "Considérons le script suivant que vous pouvez exécuter après avoir prévu le résultat :"
   ]
  },
  {
   "cell_type": "code",
   "execution_count": null,
   "id": "5e36dc10",
   "metadata": {},
   "outputs": [],
   "source": [
    "condition = False # on affecte False à la variable condition\n",
    "if condition: # si la variable condition est True (ce qui n'est pas le cas vu comment elle a été définie)\n",
    "    print(\"la condition est vraie\")# alors afficher le texte \"la condition est vraie\"\n",
    "else: # sinon (autrement dit, si la variable condition est false)\n",
    "    print(\"la condition est fausse\") # alors afficher \"la condition est fausse\""
   ]
  },
  {
   "cell_type": "markdown",
   "id": "a913c56a",
   "metadata": {},
   "source": [
    "Vous l'avez compris, dans la mesure où `False` est affecté à la variable `condition`, le premier bloc d'exécution : <br>\n",
    "```\n",
    "if condition:\n",
    "    print(\"la condition est vraie\")\n",
    "    \n",
    "```\n",
    "ne s'exécutera jamais.\n",
    "<br>"
   ]
  },
  {
   "cell_type": "markdown",
   "id": "82a7cc04",
   "metadata": {},
   "source": [
    "Aussi, on pourrait être tenté.e d'écrire le script suivant (qui donne une erreur car après les `:` de la ligne `if` un bloc d'instruction précédé d'une indentation est attendu) :"
   ]
  },
  {
   "cell_type": "code",
   "execution_count": null,
   "id": "5c9ce33f",
   "metadata": {
    "scrolled": false
   },
   "outputs": [],
   "source": [
    "condition = False # on affecte False à la variable condition\n",
    "if condition:\n",
    "else:\n",
    "    print (\"la condition est fausse\")"
   ]
  },
  {
   "cell_type": "markdown",
   "id": "8640916e",
   "metadata": {},
   "source": [
    "C'est ainsi qu'on peut utiliser l'instruction `pass`"
   ]
  },
  {
   "cell_type": "code",
   "execution_count": null,
   "id": "ffa540c4",
   "metadata": {
    "scrolled": true
   },
   "outputs": [],
   "source": [
    "condition = False # on affecte False à la variable condition\n",
    "if condition: # si la variable condition est True (ce qui n'est pas le cas vu comment elle a été définie)\n",
    "    pass # alors ne rien faire et sortir des blocs d'instructions de test\n",
    "else: # sinon (autrement dit, si la variable condition est false)\n",
    "    print(\"la condition est fausse\") # alors afficher \"la condition est fausse\""
   ]
  },
  {
   "cell_type": "markdown",
   "id": "a0645a21",
   "metadata": {},
   "source": [
    "**Questions**\n",
    "1. <b>Prévoir</b> le résultat du script si on affecte `True`à la variable condition.\n",
    "2. <b>Vérifier<b> en exécutant le bloc suivant."
   ]
  },
  {
   "cell_type": "code",
   "execution_count": null,
   "id": "1d66a828",
   "metadata": {
    "scrolled": true
   },
   "outputs": [],
   "source": [
    "condition = True # on affecte False à la variable condition\n",
    "if condition: # si la variable condition est True (ce qui n'est pas le cas vu comment elle a été définie)\n",
    "    pass # alors ne rien faire et sortir des blocs d'instructions de test\n",
    "else: # sinon (autrement dit, si la variable condition est false)\n",
    "    print(\"la condition est fausse\") # alors afficher \"la condition est fausse\""
   ]
  },
  {
   "cell_type": "markdown",
   "id": "c90f059d",
   "metadata": {},
   "source": [
    "Forcément, on peut penser qu'il ne s'est rien passé ! Et pourtant ! Le programme a été lu ligne par ligne jusqu'à l'instruction `pass` puis, il y a eu sortie des blocs d'instructions."
   ]
  },
  {
   "cell_type": "markdown",
   "id": "3e0a34e5",
   "metadata": {},
   "source": [
    "<div class=\"panel panel-default\">\n",
    "    <div class=\"panel-heading\"><h2>RÉDIGER UN SCRIPT</h2></div>\n",
    "    <div class=\"panel-body\">\n",
    "    \n",
    "Dans cette partie, je vous propose de rédiger un script dans un but qui sera précisé. En faisant un seul clic \"gauche\" sur \"la solution\", vous aurez accès à une ... solution !\n",
    "    </div>\n",
    "</div>"
   ]
  },
  {
   "cell_type": "markdown",
   "id": "227c5e11",
   "metadata": {},
   "source": [
    "Dans le bloc suivant, remplacer l'expression `------SAISIR LE SCRIPT-------` par un script qui :\n",
    "1. <b>demande</b> à l'utilisatrice/l'utilisateur de saisir la valeur d'un entier `x` (positif, négatif ou nul)\n",
    "2. <b>affiche</b> \"x est positif\" si x>0\n",
    "3. <b>affiche</b> \"x est négatif\" si x<0\n",
    "4. <b>affiche</b> \"x est nul\" si x=0"
   ]
  },
  {
   "cell_type": "code",
   "execution_count": null,
   "id": "53b6b164",
   "metadata": {
    "scrolled": false
   },
   "outputs": [],
   "source": [
    "#------SAISIR LE SCRIPT-------"
   ]
  },
  {
   "cell_type": "markdown",
   "id": "c62e11e3",
   "metadata": {},
   "source": [
    "<details>\n",
    "<summary>  <b> > Cliquer UNE FOIS sur le mot SOLUTION pour faire apparaître une solution</b> </summary>\n",
    "\n",
    "<br>\n",
    "\n",
    "```\n",
    "x = int(input(\"Saisir un nombre entier (positif, négatif ou nul):\"))\n",
    "if x>0:\n",
    "    print(\"x est positif\")\n",
    "elif x<0:\n",
    "    print(\"x est négatif\")\n",
    "else:\n",
    "    print(\"x est nul\")\n",
    "```\n",
    "ou alors :\n",
    "<br>\n",
    "```\n",
    "x = int(input(\"Saisir un nombre entier (positif, négatif ou nul):\"))\n",
    "if x>0:\n",
    "    print(\"x est positif\")\n",
    "elif x<0:\n",
    "    print(\"x est négatif\")\n",
    "elif x==0:\n",
    "    print(\"x est nul\")\n",
    "else:\n",
    "    pass\n",
    "```\n",
    "</details>"
   ]
  },
  {
   "cell_type": "markdown",
   "id": "77e6a5cf",
   "metadata": {},
   "source": [
    "<div class=\"panel panel-default\">\n",
    "    <div class=\"panel-heading\"><h2>UNE SYNTAXE PLUS COMPACTE</h2></div>\n",
    "    <div class=\"panel-body\">\n",
    "    \n",
    "Dans le cas de tests simples, Python permet une rédaction plus condensée. Je vous propose de la découvrir dans cette partie : il s'agit surtout d'un apport de connaissance complémentaire pour une rédaction qui est peu souvent utilisée dans le secondaire. Donc, cela n'est pas grave si vous ne mémormisez pas cette rédaction.\n",
    "    </div>\n",
    "</div>"
   ]
  },
  {
   "cell_type": "markdown",
   "id": "0589d397",
   "metadata": {},
   "source": [
    "<div class=\"alert alert-warning\">\n",
    "    <h3><b>Synthaxe plus condensée dans le cas de tests simples</b></h3>\n",
    "<br>\n",
    "\n",
    "Dans le cas de tests simples, Python permet une rédaction plus condensée qui fait dépendre l'affectation d'une variable à une condition.\n",
    "<br>\n",
    "    <center><h3>x = valeur1 `if` condition `else` valeur2</h3></center>\n",
    "</div>"
   ]
  },
  {
   "cell_type": "markdown",
   "id": "e5b07978",
   "metadata": {},
   "source": [
    "1. <b>Lire</b> le script suivant\n",
    "2. <b>Prévoir</b> le résultat de l'exécution de ce script\n",
    "3. <b>Exécuter</b> le bloc suivant et comparer le résultat à celui prévu au point 2\n",
    "4. <b>Remplacer</b> `8` par `15` puis exécuter de nouveau le script. \n"
   ]
  },
  {
   "cell_type": "code",
   "execution_count": null,
   "id": "38d9b817",
   "metadata": {
    "scrolled": true
   },
   "outputs": [],
   "source": [
    "x = 8\n",
    "a = 2 if 6<x<10 else 1\n",
    "print(a)"
   ]
  },
  {
   "cell_type": "code",
   "execution_count": null,
   "id": "15b1d49e",
   "metadata": {},
   "outputs": [],
   "source": []
  }
 ],
 "metadata": {
  "jupytext": {
   "cell_metadata_filter": "all, -hidden, -heading_collapsed, -run_control, -trusted",
   "notebook_metadata_filter": "all, -jupytext.text_representation.jupytext_version, -jupytext.text_representation.format_version, -language_info.version, -language_info.codemirror_mode.version, -language_info.codemirror_mode, -language_info.file_extension, -language_info.mimetype, -toc",
   "text_representation": {
    "extension": ".md",
    "format_name": "myst"
   }
  },
  "kernelspec": {
   "display_name": "Python 3",
   "language": "python",
   "name": "python3"
  },
  "language_info": {
   "codemirror_mode": {
    "name": "ipython",
    "version": 3
   },
   "file_extension": ".py",
   "mimetype": "text/x-python",
   "name": "python",
   "nbconvert_exporter": "python",
   "pygments_lexer": "ipython3",
   "version": "3.8.8"
  },
  "notebookname": "Noms de variables",
  "version": "3.0"
 },
 "nbformat": 4,
 "nbformat_minor": 5
}
