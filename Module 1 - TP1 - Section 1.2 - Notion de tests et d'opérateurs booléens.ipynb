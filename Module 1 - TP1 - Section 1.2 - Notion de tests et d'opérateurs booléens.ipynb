{
 "cells": [
  {
   "cell_type": "markdown",
   "id": "4fcd6511",
   "metadata": {},
   "source": [
    "<div class=\"licence\">\n",
    "<b><span>Licence CC BY-NC-ND </span>\n",
    "    <span>Sarah Roques - Académie de Lyon</span></b>\n",
    "<br><span><img src=\"logo Licence CC BY-NC-ND.png\" alt=\"drawing\" width=\"100\"style=\"float:left\"/></span>\n",
    "</div>"
   ]
  },
  {
   "cell_type": "markdown",
   "id": "b5068ec8",
   "metadata": {},
   "source": [
    "<h3>NUMÉRIQUE - Module 1 - TP1 - Section 1.2</h3>"
   ]
  },
  {
   "cell_type": "markdown",
   "id": "1c5032a8",
   "metadata": {},
   "source": [
    "<center><h1> <span style=\"color:#337AB7\">NOTION DE TESTS ET D'OPÉRATEURS BOOLÉENS</span> </h1></center>"
   ]
  },
  {
   "cell_type": "markdown",
   "id": "44e4ee1c",
   "metadata": {},
   "source": [
    "<div class=\"panel panel-primary\">\n",
    "<div class=\"panel-heading\"><h2>Préambule :</h2></div>\n",
    "<div class=\"panel-body\">\n",
    "\n",
    "Lorsqu'on écrit des programmes, il faut maîtriser certaines  notions comme par exemple les tests. Nous allons faire \"ici\" un survol rapide de cette première notion clé à l'écriture de vrais programmes. L'instruction `if` `else` permet de réaliser une exécution conditionnelle : un morceau du code s'exécute en fonction du résultat d'un test qui est soit vrai ou soit faux.\n",
    "</div>\n",
    "</div>"
   ]
  },
  {
   "cell_type": "markdown",
   "id": "9f427475",
   "metadata": {},
   "source": [
    "<div class=\"alert alert-warning\">\n",
    "<h2><b>Structure d'un test</b></h2><br>\n",
    "<span><img src=\"Test - Diapo 79 - 80\\Test - Diapo 7980 - 79.jpeg\" alt=\"drawing\" width=\"800\"style=\"float:center\"/></span>\n",
    "<br>\n",
    "</div>"
   ]
  },
  {
   "cell_type": "markdown",
   "id": "7d58779b",
   "metadata": {},
   "source": [
    "<div class=\"alert alert-warning\">\n",
    "<h2><b>Outils utiles pour les tests</b></h2><br>\n",
    "<span><img src=\"Test - Diapo 79 - 80\\Test - Diapo 7980 - 80.jpeg\" alt=\"drawing\" width=\"800\"style=\"float:center\"/></span>\n",
    "<br>\n",
    "</div>"
   ]
  },
  {
   "cell_type": "markdown",
   "id": "08a4c60d",
   "metadata": {},
   "source": [
    "<div class=\"panel panel-default\">\n",
    "    <div class=\"panel-heading\"><h2>TEST D'APPARTENANCE</h2></div>\n",
    "    <div class=\"panel-body\">\n",
    "    \n",
    "Dans cette partie, nous allons (re)découvrir la rédaction de tests simples en commenançant par le test d'appartenance avec l'expression `in` qui renvoie à `True` si l'objet testé appartient à une expression définie.\n",
    "    </div>\n",
    "</div>"
   ]
  },
  {
   "cell_type": "markdown",
   "id": "fae039e2",
   "metadata": {},
   "source": [
    "Exécuter le code suivant. On rappelle que le texte qui suit le symbole `#` est un commentaire qui n'est pas utile pour l'exécution du code mais qui permet d'expliciter l'action de la ligne commentée."
   ]
  },
  {
   "cell_type": "code",
   "execution_count": null,
   "id": "e934a86d",
   "metadata": {},
   "outputs": [],
   "source": [
    "if 'f' in 'meef': # si le caractère \"f\" appartient à la chaine de caractère \"meef\" le test est vrai et\n",
    "    print('OUI') # l'expression \"OUI\" apparait sur la console\n",
    "else: # si le test est Faux alors\n",
    "    print('NON') # l'expression \"NON\" apparait sur la console"
   ]
  },
  {
   "cell_type": "markdown",
   "id": "57d747db",
   "metadata": {},
   "source": [
    "<p>\n",
    "    On peut s'assurer que le programme précédent fonctionne de la même manière sans les commentaires ! Pour cela, exécuter le script suivant :</p>"
   ]
  },
  {
   "cell_type": "code",
   "execution_count": null,
   "id": "02c7195c",
   "metadata": {},
   "outputs": [],
   "source": [
    "if 'f' in 'meef':\n",
    "    print('OUI')\n",
    "else:\n",
    "    print('NON')"
   ]
  },
  {
   "cell_type": "markdown",
   "id": "f20ff8f1",
   "metadata": {},
   "source": [
    "<div class=\"panel panel-default\">\n",
    "    <div class=\"panel-heading\"><h2>COMPRÉHENSION DE CODE</h2></div>\n",
    "    <div class=\"panel-body\">\n",
    "\n",
    "Dans cette partie, je vous propose le script suivant. \n",
    "<br><br>\n",
    "        **Questions :** \n",
    "1. que fait le script suivant ?\n",
    "2. quel sera la résultat de l'exécution de ce script ?\n",
    "<br>\n",
    "        SCRIPT :\n",
    "<br>\n",
    "\n",
    "```\n",
    "x=7\n",
    "test=x>10\n",
    "if test:\n",
    "    print(\"la variable x vaut : \",x,\"et le test est vrai\")\n",
    "else:\n",
    "    print(\"la variable x vaut : \",x,\"et le test est faux\")\n",
    "```\n",
    "</div>\n",
    "</div>"
   ]
  },
  {
   "cell_type": "markdown",
   "id": "d61f81e2",
   "metadata": {},
   "source": [
    "Pour vérifier les réponses précédentes, exécuter le script suivant :"
   ]
  },
  {
   "cell_type": "code",
   "execution_count": null,
   "id": "ac6a46ec",
   "metadata": {},
   "outputs": [],
   "source": [
    "x=7\n",
    "test=x>10\n",
    "if test:\n",
    "    print(\"la variable x vaut : \",x,\"et le test est vrai\")\n",
    "else:\n",
    "    print(\"la variable x vaut : \",x,\"et le test est faux\")"
   ]
  },
  {
   "cell_type": "markdown",
   "id": "15d43c4c",
   "metadata": {},
   "source": [
    "*Le script précédent permet de réaliser un test : celui de comparer la valeur d'une variable x à 10 : plus précisément, il s'agit de vérifier si la valeur de x est strictement supérieur à 10. Ce test de comparaison est affecté à une variable appelée <b>test</b>. On aurait pu l'appeler **bidule** ou autre.\n",
    "<br>\n",
    "Si le test est vrai alors le texte \"la variable de x vaut (suivie de la valeur de x) : le test est vrai\" apparait.\n",
    "Si le est faux alors le texte \"la variable de x vaut (suivie de la valeur de x) : le test est faux\" apparait : c'est le cas dans la situation étudiée ici car x = 7 n'est pas strictement supérieur à 10.*"
   ]
  },
  {
   "cell_type": "markdown",
   "id": "2e7b5678",
   "metadata": {},
   "source": [
    "1. Dans le script précédent, quel est le type de la variable `test` ?\n",
    "2. Dans le bloc suivant, remplacer l'expression `--- SAISIR UNE LIGNE DE SCRIPT---` par une commande adapté puis exécuter le bloc pour vérifier la réponse précédente."
   ]
  },
  {
   "cell_type": "code",
   "execution_count": null,
   "id": "a0e480a7",
   "metadata": {},
   "outputs": [],
   "source": [
    "type(test)"
   ]
  },
  {
   "cell_type": "markdown",
   "id": "750ebec6",
   "metadata": {},
   "source": [
    "<div class=\"panel panel-default\">\n",
    "    <div class=\"panel-heading\"><h2>RÉDIGER UN SCRIPT</h2></div>\n",
    "    <div class=\"panel-body\">\n",
    "    \n",
    "Dans cette partie, je vous propose de régier un script dans un but qui est précisé. En faisant un seul clic \"gauche\" sur \"la solution\", vous aurez accès à une ... solution !\n",
    "    </div>\n",
    "</div>"
   ]
  },
  {
   "cell_type": "markdown",
   "id": "227c5e11",
   "metadata": {},
   "source": [
    "Dans le bloc suivant, remplacer l'expression \"Saisir le script\" par un script qui :\n",
    "1. demande à l'utilisatrice/l'utilisateur de saisir la valeur x d'un entier (positif, négatif ou nul)\n",
    "2. affiche \"x est positif\" si x>0\n",
    "3. affiche \"x est négatif\" si x<0\n",
    "4. affiche \"x est nul\" si x=0\n",
    "\n",
    "\n",
    "\n",
    "\n",
    "<details>\n",
    "<summary>  <b> > Cliquer UNE FOIS sur le mot SOLUTION pour faire apparaître une solution</b> </summary>\n",
    "\n",
    "<br>\n",
    "\n",
    "````\n",
    "x = int(input(\"Saisir un nombre entier (positif, négatif ou nul):\"))\n",
    "if x>0:\n",
    "    print(\"x est positif\")\n",
    "elif x<0:\n",
    "    print(\"x est négatif\")\n",
    "else:\n",
    "    print(\"x est nul\")\n",
    "````\n",
    "</details>"
   ]
  },
  {
   "cell_type": "code",
   "execution_count": null,
   "id": "53b6b164",
   "metadata": {
    "scrolled": true
   },
   "outputs": [],
   "source": [
    "------SAISIR LE SCRIPT-------"
   ]
  },
  {
   "cell_type": "markdown",
   "id": "77e6a5cf",
   "metadata": {},
   "source": [
    "<div class=\"panel panel-default\">\n",
    "    <div class=\"panel-heading\"><h2>UNE SYNTAXE PLUS COMPACTE</h2></div>\n",
    "    <div class=\"panel-body\">\n",
    "    \n",
    "Dans le cas de tests simples, Python permet une rédaction plus condensée. Je vous propose de la découvrir dans cette partie : il s'agit surtout d'un apport de connaissance complémentaire pour une rédaction qui est peu souvent utilisée dans le secondaire. Donc, cela n'est pas grave si vous ne mémormisez pas cette rédaction.\n",
    "    </div>\n",
    "</div>"
   ]
  },
  {
   "cell_type": "markdown",
   "id": "0589d397",
   "metadata": {},
   "source": [
    "<div class=\"alert alert-warning\">\n",
    "    <h3><b>Synthaxe plus condensée dans le cas de tests simples</b></h3>\n",
    "<br>\n",
    "\n",
    "Dans le cas de tests simples, Python permet une rédaction plus condensée qui fait dépendre l'affectation d'une variable à une condition.\n",
    "<br>\n",
    "    <center><h3>x = valeur1 `if` condition `else` valeur2</h3></center>\n",
    "</div>"
   ]
  },
  {
   "cell_type": "markdown",
   "id": "e5b07978",
   "metadata": {},
   "source": [
    "1. Lire le script suivant\n",
    "2. Prévoir le résultat de l'exécution de ce script\n",
    "3. Exécuter le bloc suivant et comparer le résultat à celui prévu au point 2\n",
    "4. Remplacer `8` par `15` puis exécuter de nouveau le script. \n"
   ]
  },
  {
   "cell_type": "code",
   "execution_count": null,
   "id": "38d9b817",
   "metadata": {
    "scrolled": true
   },
   "outputs": [],
   "source": [
    "x = 8\n",
    "a = 2 if x>10 else 1\n",
    "print(a)"
   ]
  }
 ],
 "metadata": {
  "jupytext": {
   "cell_metadata_filter": "all, -hidden, -heading_collapsed, -run_control, -trusted",
   "notebook_metadata_filter": "all, -jupytext.text_representation.jupytext_version, -jupytext.text_representation.format_version, -language_info.version, -language_info.codemirror_mode.version, -language_info.codemirror_mode, -language_info.file_extension, -language_info.mimetype, -toc",
   "text_representation": {
    "extension": ".md",
    "format_name": "myst"
   }
  },
  "kernelspec": {
   "display_name": "Python 3",
   "language": "python",
   "name": "python3"
  },
  "language_info": {
   "codemirror_mode": {
    "name": "ipython",
    "version": 3
   },
   "file_extension": ".py",
   "mimetype": "text/x-python",
   "name": "python",
   "nbconvert_exporter": "python",
   "pygments_lexer": "ipython3",
   "version": "3.8.8"
  },
  "notebookname": "Noms de variables",
  "version": "3.0"
 },
 "nbformat": 4,
 "nbformat_minor": 5
}
