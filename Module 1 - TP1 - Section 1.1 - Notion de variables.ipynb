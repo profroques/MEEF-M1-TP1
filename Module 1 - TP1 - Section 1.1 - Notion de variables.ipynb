{
 "cells": [
  {
   "cell_type": "markdown",
   "id": "4fcd6511",
   "metadata": {},
   "source": [
    "<div class=\"licence\">\n",
    "<b><span>Licence CC BY-NC-ND </span>\n",
    "    <span>Sarah Roques - Académie de Lyon</span></b>\n",
    "<br><span><img src=\"logo Licence CC BY-NC-ND.png\" alt=\"drawing\" width=\"100\"style=\"float:left\"/></span>\n",
    "</div>"
   ]
  },
  {
   "cell_type": "markdown",
   "id": "b5068ec8",
   "metadata": {},
   "source": [
    "<h3>NUMÉRIQUE - Module 1 - TP1 - Section 1.1</h3>"
   ]
  },
  {
   "cell_type": "markdown",
   "id": "1c5032a8",
   "metadata": {},
   "source": [
    "<center><h1> <span style=\"color:#337AB7\">NOTION DE VARIABLES</span> </h1></center>"
   ]
  },
  {
   "cell_type": "markdown",
   "id": "44e4ee1c",
   "metadata": {},
   "source": [
    "<div class=\"panel panel-primary\">\n",
    "    <div class=\"panel-heading\"><h2>Préambule :</h2></div>\n",
    "      <div class=\"panel-body\">\n",
    "<p>Lorsqu'on exécute un script Python, on est amené à devoir garder en mémoire le résultat de certaines opérations pour les réutiliser par la suite. C'est ce que permet de faire les <b>variables</b>.</p>\n",
    "\n",
    "<p>Une variable peut être perçue comme une \"boite\" dans laquelle on y met quelque chose - on parle de <i>valeur</i>. Cette valeur peut être de différents <i>types</i> : entier, décimal, chaîne de caractères, liste, etc.</p>\n",
    "      </div>\n",
    "</div>"
   ]
  },
  {
   "cell_type": "markdown",
   "id": "08a4c60d",
   "metadata": {},
   "source": [
    "<div class=\"panel panel-default\">\n",
    "      <div class=\"panel-heading\"><h2>AFFECTATION</h2></div>\n",
    "       <div class=\"panel-body\">Dans cette partie, nous allons (re)découvrir ce qu'est une \"affectation\" pour une variable et comment on réalise une affectation.\n",
    "</div>"
   ]
  },
  {
   "cell_type": "markdown",
   "id": "fae039e2",
   "metadata": {},
   "source": [
    "Exécuter le code suivant."
   ]
  },
  {
   "cell_type": "code",
   "execution_count": null,
   "id": "e934a86d",
   "metadata": {},
   "outputs": [],
   "source": [
    "toto=24.2"
   ]
  },
  {
   "cell_type": "markdown",
   "id": "57d747db",
   "metadata": {},
   "source": [
    "<p>\n",
    "    On peut croire qu'il ne se passe rien lors de l'exécution de la ligne précédente. Erreur ! Une affecation a été réalisée !</p>"
   ]
  },
  {
   "cell_type": "markdown",
   "id": "0589d397",
   "metadata": {},
   "source": [
    "<div class=\"alert alert-warning\">\n",
    "    <h3><b>Affectation</b></h3>\n",
    "<br>\n",
    "\n",
    "Dans l'expression `toto=24.2`, l'affectation se réalise avec l'opérateur `=` qui ne doit surtout pas être compris comme le signe égal en mathématiques.\n",
    "\n",
    "La commande `=` a attribué la valeur (décimale - on parle de \"float\") `24,2` à la variable nommée `toto`. <br>L'instruction d'affectation se lit de droite à gauche.\n",
    "</div>"
   ]
  },
  {
   "cell_type": "markdown",
   "id": "e5b07978",
   "metadata": {},
   "source": [
    "On peut faire afficher la valeur affectée à la variable `toto` en exécutant la ligne suivante :"
   ]
  },
  {
   "cell_type": "code",
   "execution_count": null,
   "id": "38d9b817",
   "metadata": {},
   "outputs": [],
   "source": [
    "print(toto)"
   ]
  },
  {
   "cell_type": "markdown",
   "id": "4e9e0267",
   "metadata": {},
   "source": [
    "<p>\n",
    "\n",
    "Le type de la variable `toto` est un nombre décimal : en Python, on parle de <i>float</i>. La fonction `type()` permet de connaître le type d'une \"variable\".\n",
    "<br>Exécuter le script suivant.\n",
    "</p>"
   ]
  },
  {
   "cell_type": "code",
   "execution_count": null,
   "id": "d93eaab6",
   "metadata": {},
   "outputs": [],
   "source": [
    "type(toto)"
   ]
  },
  {
   "cell_type": "markdown",
   "id": "fdae7ac8",
   "metadata": {},
   "source": [
    "<div class=\"alert alert-success\" role=\"alert\">\n",
    "  <h4 class=\"alert-heading\">Pour en savoir plus</h4>\n",
    "  <p>La liste complète des types de base est disponible dans une documentation en ligne, à l'adresse <a href=\"https://docs.python.org/3/library/datatypes.html\" target=_blank>https://docs.python.org/3/library/datatypes.html</a>.</p>\n",
    "</div>"
   ]
  },
  {
   "cell_type": "markdown",
   "id": "f13df076",
   "metadata": {},
   "source": [
    "<div class=\"panel panel-default\">\n",
    "      <div class=\"panel-heading\"><h2>NOMMER DES VARIABLES</h2></div>\n",
    "       <div class=\"panel-body\">Dans cette partie, nous allons découvrir quelles sont les nomenclatures possibles pour nommer des variables.\n",
    "</div>"
   ]
  },
  {
   "cell_type": "markdown",
   "id": "6eab141b",
   "metadata": {},
   "source": [
    "Les noms les plus simples sont constitués de lettres en minuscules comme dans le script suivant que je vous demande d'exécuter :"
   ]
  },
  {
   "cell_type": "code",
   "execution_count": null,
   "id": "06d58fa2",
   "metadata": {},
   "outputs": [],
   "source": [
    "rang = 1 # l'entier 1 est affecté à la variable rang\n",
    "print(\"La variable rang contient la valeur\",rang) # impression à l'écran du contenu auquel fait référence la variable rang"
   ]
  },
  {
   "cell_type": "markdown",
   "id": "a4c8fb25",
   "metadata": {},
   "source": [
    "On peut aussi utiliser des majuscules. Mais, pour Python, deux noms de variables avec les mêmes lettres mais avec des casses différentes (majuscules/minuscules) sont deux variables différentes.\n",
    "<br>\n",
    "Exécuter les lignes suivantes."
   ]
  },
  {
   "cell_type": "code",
   "execution_count": null,
   "id": "e5c1523c",
   "metadata": {
    "scrolled": true
   },
   "outputs": [],
   "source": [
    "Rang = 20 # l'entier 20 est affecté à la variable Rang\n",
    "print(\"La variable Rang contient la valeur\",Rang) # impression à l'écran du contenu auquel fait référence la variable rang"
   ]
  },
  {
   "cell_type": "markdown",
   "id": "f27adb9f",
   "metadata": {},
   "source": [
    "On peut vérifier que les deux variables <b>rang</b> et <b>Rang</b> sont différentes grâce à un test de comparaison."
   ]
  },
  {
   "cell_type": "markdown",
   "id": "9f427475",
   "metadata": {},
   "source": [
    "<div class=\"alert alert-warning\">\n",
    "\n",
    "<h2><b>Test de comparaison</b></h2><br>\n",
    "\n",
    "Le symbole `==` est un opérateur d'égalité. Cet opérateur permet de tester si deux variables ont la même valeur. Si la valeur de la variable à gauche du signe `==` est identique à celle de la varaible à droite du signe `==`, alors le résultat est `True` ; dans le cas contraire, le résultat est `False`. \n",
    "<br>Nous reviendrons plus tard sur ces notions de tests.\n",
    "</div>"
   ]
  },
  {
   "cell_type": "markdown",
   "id": "256d6a18",
   "metadata": {},
   "source": [
    "Exécuter le test suivant pour réaliser un test de comparaison entre les variables <b>rang</b> et <b>Rang</b>."
   ]
  },
  {
   "cell_type": "code",
   "execution_count": null,
   "id": "2350c321",
   "metadata": {},
   "outputs": [],
   "source": [
    "rang == Rang # on compare la valeur affectée à la variable rang à la valeur affectée à la variable Rang"
   ]
  },
  {
   "cell_type": "markdown",
   "id": "3ce0e485",
   "metadata": {},
   "source": [
    "Il est également possible de nommer des variables avec plusieurs mots. Dans ce cas, et pour des raisons de lisibilité, il est possible d'utiliser le tiret bas `_` (underscore alias tiret de la touche 8). Exemple :"
   ]
  },
  {
   "cell_type": "code",
   "execution_count": null,
   "id": "9e62aceb",
   "metadata": {
    "scrolled": true
   },
   "outputs": [],
   "source": [
    "rang_meef = 1 \n",
    "Rang_capes = 20\n",
    "print(\"Le rang de Claude au Master Meef est\",rang_meef,\"et son rang au concours du CAPES est\", Rang_capes)"
   ]
  },
  {
   "cell_type": "markdown",
   "id": "2666de55",
   "metadata": {},
   "source": [
    "<div class=\"alert alert-warning\">\n",
    "\n",
    "<h2><b>Conventions habituelles pour nommer des variables</b></h2>\n",
    "<br><br>\n",
    "    En règle générale, on utilise <i>uniquement des minuscules</i> pour désigner les variables simples (ainsi d'ailleurs que pour les noms de fonctions).\n",
    "\n",
    "Il faut noter qu'il s'agit d'une convention, ceci n'est donc pas imposé par le langage de programmation lui-même."
   ]
  },
  {
   "cell_type": "markdown",
   "id": "3611f433",
   "metadata": {},
   "source": [
    "Alors finalement, que peut-on utiliser comme nom de variables ? Exécuter le bloc suivant pour vérifier si un message d'erreur apparaît pour cette proposition de nom de variable."
   ]
  },
  {
   "cell_type": "code",
   "execution_count": null,
   "id": "17092035",
   "metadata": {},
   "outputs": [],
   "source": [
    "RangMeef = 20"
   ]
  },
  {
   "cell_type": "markdown",
   "id": "83dc6aba",
   "metadata": {},
   "source": [
    "Le nom précédent est autorisé mais le mélange des majuscules et des minuscules n'est pas \"terrible\".\n",
    "<br>On peut également utiliser des chiffres dans les noms de variables comme par exemple :"
   ]
  },
  {
   "cell_type": "code",
   "execution_count": null,
   "id": "5fcbb405",
   "metadata": {},
   "outputs": [],
   "source": [
    "rang_en_2021 = 20"
   ]
  },
  {
   "cell_type": "markdown",
   "id": "162d5ac7",
   "metadata": {},
   "source": [
    "<b><p style= color:red>ATTENTION : le premier caractère ne peut pas être un chiffre !</p></b>\n",
    "<br> Exéctuer le script suivant pour vérifier l'erreur de syntaxe :"
   ]
  },
  {
   "cell_type": "code",
   "execution_count": null,
   "id": "d168b25b",
   "metadata": {
    "latex:skip-eval": true
   },
   "outputs": [],
   "source": [
    "2021_rang = 20 "
   ]
  },
  {
   "cell_type": "markdown",
   "id": "0c711ecb",
   "metadata": {},
   "source": [
    "### Le tiret bas comme premier caractère"
   ]
  },
  {
   "cell_type": "markdown",
   "id": "8ea82719",
   "metadata": {},
   "source": [
    "Nous avons vu qu'il était possible d'utiliser le tiret du bas (\"underscore\" alias \"tiret de la touche 8). <br>\n",
    "En princpe, il est également possible de commencer le nom d'une variable par `_`. \n",
    "<br>Toutefois, il est <b>FORTEMENT</b> déconseiller de le faire car ce type de nomination de variable `__variable__` est réservée à des \"noms\" déjà utilisés dans le langage de programmation Python "
   ]
  },
  {
   "cell_type": "markdown",
   "id": "506e4e6a",
   "metadata": {},
   "source": [
    "### Ponctuation"
   ]
  },
  {
   "cell_type": "markdown",
   "id": "1a2542ca",
   "metadata": {},
   "source": [
    "Le tiret du \"haut\" `-` ne doit pas être utilisé pour nommer une variable (<b>NEVER !</b>)"
   ]
  },
  {
   "cell_type": "code",
   "execution_count": null,
   "id": "0803f989",
   "metadata": {
    "latex:skip-eval": true
   },
   "outputs": [],
   "source": [
    "rang-meef = 20"
   ]
  },
  {
   "cell_type": "markdown",
   "id": "a8550c93",
   "metadata": {},
   "source": [
    "### Accents"
   ]
  },
  {
   "cell_type": "markdown",
   "id": "9869f97c",
   "metadata": {},
   "source": [
    "En Python 3, il est possible d'utiliser des caractères accentués pour les noms de variables : toutefois, dans l'usage, on évite des noms accentués. \n",
    "<br>Exemple :"
   ]
  },
  {
   "cell_type": "code",
   "execution_count": null,
   "id": "17c0b9b6",
   "metadata": {},
   "outputs": [],
   "source": [
    "rang_inspé = 20\n",
    "print(rang_inspé)"
   ]
  },
  {
   "cell_type": "markdown",
   "id": "f7315ffe",
   "metadata": {},
   "source": [
    "<div class=\"panel panel-default\">\n",
    "      <div class=\"panel-heading\"><h2>CONVERTIR DES TYPES DE VARIABLES</h2></div>\n",
    "       <div class=\"panel-body\">Dans cette partie, nous allons découvrir comment il est possible de convertir le type d'un objet en un autre type.\n",
    "</div>"
   ]
  },
  {
   "cell_type": "markdown",
   "id": "2af83691",
   "metadata": {},
   "source": [
    "<div class=\"alert alert-warning\">\n",
    "\n",
    "<h2><b>Convertir des types de variables</b></h2><br>\n",
    "\n",
    "\n",
    "- Si a est un <ins>entier</ins> alors l'instruction : \n",
    "  * `float(a)` convertit a en float\n",
    "  * `str (a)` convertit a en str\n",
    "<br><br>\n",
    "    \n",
    "- Si a est un <ins>float</ins> alors l'instruction : \n",
    "  * `str(a)` convertit a en str\n",
    "  * `int (a)` convertit a en int\n",
    "<br><br>\n",
    "    \n",
    "- Si a est un <ins>str</ins> alors l'instruction : \n",
    "  * `int(a)` convertit a en int\n",
    "  * `str (a)` convertit a en str\n",
    "\n",
    "</div>"
   ]
  },
  {
   "cell_type": "markdown",
   "id": "07fa759d",
   "metadata": {},
   "source": [
    "1. <b>Prévoir</b> le résultat du script suivant :\n",
    "```\n",
    "x = 2\n",
    "print(\"avant : \",x)\n",
    "x = float(x)\n",
    "print(\"après : \",x)\n",
    "```\n",
    "2. <b>Vérifier</b> la réponse en exécutant le bloc suivant :"
   ]
  },
  {
   "cell_type": "code",
   "execution_count": null,
   "id": "13db79cd",
   "metadata": {
    "scrolled": true
   },
   "outputs": [],
   "source": [
    "x = 2\n",
    "print(\"avant : \",x)\n",
    "x=float(x)\n",
    "print(\"après : \",x)"
   ]
  },
  {
   "cell_type": "markdown",
   "id": "71e2ed27",
   "metadata": {},
   "source": [
    "1. <b>Prévoir</b> le résultat du script suivant :\n",
    "````\n",
    "x = 2.6\n",
    "print(\"avant : \",x)\n",
    "int(x)\n",
    "print(\"après : \",x)\n",
    "````\n",
    "2. <b>Vérifier</b> la réponse en exécutant le bloc suivant :"
   ]
  },
  {
   "cell_type": "code",
   "execution_count": null,
   "id": "0b55cf24",
   "metadata": {
    "scrolled": true
   },
   "outputs": [],
   "source": [
    "x = 2.6\n",
    "print(\"avant : \",x)\n",
    "x = int(x)\n",
    "print(\"après : \",x)"
   ]
  },
  {
   "cell_type": "markdown",
   "id": "b7e93b53",
   "metadata": {},
   "source": [
    "<div class=\"panel panel-default\">\n",
    "<div class=\"panel-heading\"><h2>FOCUS SUR LES LISTES</h2></div>\n",
    "    <div class=\"panel-body\">Dans cette partie, nous allons nous intéresser au type <b>list</b>.</div>\n",
    "</div>"
   ]
  },
  {
   "cell_type": "markdown",
   "id": "6443bd5f",
   "metadata": {},
   "source": [
    "<div class=\"alert alert-warning\">\n",
    "\n",
    "<h2><b>À PROPOS DES LISTES</b></h2><br>\n",
    "\n",
    "- Les éléments d'une liste peuvent être de types variés comme <b>int</b> et/ou <b>float</b> et/ou <b>str</b>, etc.\n",
    "- L'indice du premier élément d'une liste est zéro (0).\n",
    "- Il est possible d'affecter une liste à une variable.\n",
    "- `len(L)` permet de connaitre la longueur de la liste L.\n",
    "- L'instruction `L[1]` renvoie au 2ème élément de la liste L.\n",
    "- L'instruction `L[-1]` renvoie au dernier élément de la liste L.\n",
    "- L'instruction `L.append(208.4)` ajoute le float 208.4 à la fin de la liste L.\n",
    "</div>"
   ]
  },
  {
   "cell_type": "markdown",
   "id": "e90cc271",
   "metadata": {},
   "source": [
    "1. <b>Prévoir</b> le résultat du script :\n",
    "```\n",
    "L = ['a','b','c']\n",
    "print(L)\n",
    "print(L*2)\n",
    "```\n",
    "2. <b>Exécuter</b> le bloc suivant pour vérifier le résultat."
   ]
  },
  {
   "cell_type": "code",
   "execution_count": null,
   "id": "5a943691",
   "metadata": {},
   "outputs": [],
   "source": [
    "L = ['a','b','c']\n",
    "print(L)\n",
    "print(L*2)"
   ]
  },
  {
   "cell_type": "markdown",
   "id": "b449f477",
   "metadata": {},
   "source": [
    "Dans le bloc suivant, remplacer l'expression `---SAISIR LE SCRIPT ADAPTÉ---` par un script adapté pour :\n",
    "1. <b>créer</b> une liste nommée L et contenant dans l'ordre : Bob, 14.5\n",
    "2. <b>afficher</b> la liste L\n",
    "3. <b>ajouter</b> à cette liste : aime, 28.9,100.4,Germaine\n",
    "4. <b>afficher</b> la liste L ainsi augmentée\n",
    "5. <b>afficher</b> la longueur de la liste (augmentée)\n",
    "6. <b>afficher</b> les premier, troisième et dernier éléments de la liste (augmentée)."
   ]
  },
  {
   "cell_type": "code",
   "execution_count": null,
   "id": "afd5bd6a",
   "metadata": {
    "scrolled": false
   },
   "outputs": [],
   "source": [
    "#---SAISIR LE SCRIPT ADAPTÉ---\n"
   ]
  },
  {
   "cell_type": "markdown",
   "id": "8af7e595",
   "metadata": {},
   "source": [
    "<details>\n",
    "<summary>  <b> > Cliquer UNE FOIS sur le mot SOLUTION pour faire apparaître une solution</b> </summary>\n",
    "\n",
    "<br>\n",
    "\n",
    "```\n",
    "L=['Bob',14.5]\n",
    "print(L)\n",
    "L.append('aime')\n",
    "L.append(28.9)\n",
    "L.append(100.4)\n",
    "L.append(\"Germaine\")\n",
    "print(L)\n",
    "print(len(L))\n",
    "print(L[0],L[2],L[-1])\n",
    "```\n",
    "</details>"
   ]
  }
 ],
 "metadata": {
  "celltoolbar": "Aucun(e)",
  "jupytext": {
   "cell_metadata_filter": "all, -hidden, -heading_collapsed, -run_control, -trusted",
   "notebook_metadata_filter": "all, -jupytext.text_representation.jupytext_version, -jupytext.text_representation.format_version, -language_info.version, -language_info.codemirror_mode.version, -language_info.codemirror_mode, -language_info.file_extension, -language_info.mimetype, -toc",
   "text_representation": {
    "extension": ".md",
    "format_name": "myst"
   }
  },
  "kernelspec": {
   "display_name": "Python 3",
   "language": "python",
   "name": "python3"
  },
  "language_info": {
   "codemirror_mode": {
    "name": "ipython",
    "version": 3
   },
   "file_extension": ".py",
   "mimetype": "text/x-python",
   "name": "python",
   "nbconvert_exporter": "python",
   "pygments_lexer": "ipython3",
   "version": "3.8.8"
  },
  "notebookname": "Noms de variables",
  "version": "3.0"
 },
 "nbformat": 4,
 "nbformat_minor": 5
}
