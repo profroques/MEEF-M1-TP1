{
 "cells": [
  {
   "cell_type": "markdown",
   "id": "4fcd6511",
   "metadata": {},
   "source": [
    "<div class=\"licence\">\n",
    "<b><span>Licence CC BY-NC-ND </span>\n",
    "    <span>Sarah Roques - Académie de Lyon</span></b>\n",
    "<br><span><img src=\"logo Licence CC BY-NC-ND.png\" alt=\"drawing\" width=\"100\"style=\"float:left\"/></span>\n",
    "</div>"
   ]
  },
  {
   "cell_type": "markdown",
   "id": "b5068ec8",
   "metadata": {},
   "source": [
    "<h3>NUMÉRIQUE - Module 1 - TP1 - Section 1.5</h3>"
   ]
  },
  {
   "cell_type": "markdown",
   "id": "1c5032a8",
   "metadata": {},
   "source": [
    "<center><h1> <span style=\"color:#337AB7\">NOTION DE GRAPHIQUES</span> </h1></center>"
   ]
  },
  {
   "cell_type": "markdown",
   "id": "44e4ee1c",
   "metadata": {},
   "source": [
    "<div class=\"panel panel-primary\">\n",
    "<div class=\"panel-heading\"><h2>Préambule :</h2></div>\n",
    "<div class=\"panel-body\">\n",
    "\n",
    "<br>Difficile de ne pas concevoir l'apport potentiel d'un langage de programmation en physique-chimie, sans aborder la question de la représentation des données. Nous aurons besoin du module <b>pyplot</b> de la bibliothèque <b>matplotlib</b>.\n",
    "    \n",
    "<br>Cette partie doit être considérée comme une initiation à la représentation de données : nous travaillerons ici à partir de listes. J'attire votre attention sur le fait que nous reviendrons sur les représentations graphiques avec les outils supplémentaires de la bibliothèque <b>numpy</b>.\n",
    "</div>\n",
    "</div>"
   ]
  },
  {
   "cell_type": "markdown",
   "id": "f20ff8f1",
   "metadata": {},
   "source": [
    "<div class=\"panel panel-default\">\n",
    "    <div class=\"panel-heading\"><h2>IMPORTER LE MODYLE PYPLOT DE MATPLOTLIB</h2></div>\n",
    "    <div class=\"panel-body\">\n",
    "\n",
    "Dans cette partie (très courte), nous allons réaliser l'import du module `pyplot` de la bibliothèque `matplotlib` qui n'est pas une bibliothèque \"standard\". \n",
    "</div>\n",
    "</div>"
   ]
  },
  {
   "cell_type": "markdown",
   "id": "4cba1da4",
   "metadata": {},
   "source": [
    "Saisir dans le bloc suivant, la ligne nécessaire pour importer le module **pyplot** de la bibliothèque **matplotlib** tout en utilisant l'alias (communément utilisé pour un tel module) **plt**."
   ]
  },
  {
   "cell_type": "code",
   "execution_count": null,
   "id": "49d48adf",
   "metadata": {
    "scrolled": true
   },
   "outputs": [],
   "source": []
  },
  {
   "cell_type": "markdown",
   "id": "46609f23",
   "metadata": {},
   "source": [
    "<details>\n",
    "<summary>  <b> > Cliquer UNE FOIS sur le mot SOLUTION pour faire apparaître une solution</b> </summary>\n",
    "\n",
    "\n",
    "```import matplotlib.pyplot as plt\n",
    "    ```\n",
    "<br>\n",
    "\n",
    "</details>"
   ]
  },
  {
   "cell_type": "markdown",
   "id": "4858e880",
   "metadata": {},
   "source": [
    "Considérons nous en séance de TP sur la notion de réfraction en optique. En particulier, nous avons réalisé un ensemble de mesures d'angles d'incidence <i>x</i> et des angles de réfraction <i>y</i> correspondants. On souhaite représenter l'angle de réfraction <i>y</i> en fonction de l'angle d'incidence <i>x</i>.\n",
    "<br>\n",
    "Voici les résultats des mesures réalisées :<br>\n",
    "<p> \n",
    "    \n",
    "| x(°) \t| 0 \t| 10 \t| 20 \t| 30 \t| 40 \t| 50 \t| 60 \t| 70   \t| 80   \t|\n",
    "|:-----:|:-----:|:-----:|:-----:|:-----:|:-----:|:-----:|:-----:|:-----:|:-----:|\n",
    "| y(°) \t| 0 \t| 7  \t| 13 \t| 20 \t| 25 \t| 30 \t| 35 \t| 39,5 \t| 40,5 \t|\n",
    "</p>\n",
    "\n",
    "Dans le bloc suivant :\n",
    "- <b>créer</b> une liste appeleée <i>x</i> et contenant les valeurs correspondantes de l'angle d'incidence <i>x</i> ;\n",
    "- <b>créer</b> une liste appelée <i>y</i> et contenant les vaeurs correpondantes de l'angle de réfraction </i>y</i> ;\n",
    "- puis <b>afficher</b> ces listes sur deux lignes différentes.\n",
    "\n"
   ]
  },
  {
   "cell_type": "code",
   "execution_count": null,
   "id": "41db68c6",
   "metadata": {
    "scrolled": false
   },
   "outputs": [],
   "source": []
  },
  {
   "cell_type": "markdown",
   "id": "385a32ef",
   "metadata": {},
   "source": [
    "<details>\n",
    "<summary>  <b> > Cliquer UNE FOIS sur le mot SOLUTION pour faire apparaître une solution</b> </summary>\n",
    "\n",
    "\n",
    "```x=[0,10,20,30,40,50,60,70,80]\n",
    "y=[0,7,13,20,25,30,35,39.5,40.5]\n",
    "print(\"angles d'incidence x : \",x)\n",
    "print(\"angles de refraction y : \",y)\n",
    "    ```\n",
    "<br>\n",
    "\n",
    "</details>"
   ]
  },
  {
   "cell_type": "markdown",
   "id": "9ba2e2f2",
   "metadata": {},
   "source": [
    "Le script suivant permet de représenter les points des listes x et y. Par défaut, le point d'abscisse x[0] a pour ordonnée y[0]. "
   ]
  },
  {
   "cell_type": "code",
   "execution_count": null,
   "id": "d352535f",
   "metadata": {
    "scrolled": false
   },
   "outputs": [],
   "source": [
    "plt.scatter(x,y)\n",
    "plt.show()"
   ]
  },
  {
   "cell_type": "markdown",
   "id": "02c1a4fb",
   "metadata": {},
   "source": [
    "Il faut \"forcément\" ajouter l'instruction `plt.show` pour voir s'afficher le graphique sans erreur. Vous pouvez vous en convaicre en retournant dans le bloc précédent et ajouter un `#` devant `plt.show()` puis, exécuter de nouveau le bloc.\n",
    "<br> Rappelons que le texte se trouvant à droite du symbole `#` est considéré comme un commentaire - ce texte est alors ignoré lors de l'exécution d'un programme."
   ]
  },
  {
   "cell_type": "markdown",
   "id": "79a37fb2",
   "metadata": {},
   "source": [
    "<div class=\"panel panel-default\">\n",
    "    <div class=\"panel-heading\"><h2>LÉGENDER UN GRAPHIQUE</h2></div>\n",
    "    <div class=\"panel-body\">\n",
    "\n",
    "Dans cette partie, je vous propose de découvrir comment il est possible d'apporter des informations supplémentaires sur un graphique.\n",
    "</div>"
   ]
  },
  {
   "cell_type": "markdown",
   "id": "bd66a218",
   "metadata": {},
   "source": [
    "Ajoutons une légende sur les axes et un titre au graphique. Exécuter le script suivant :"
   ]
  },
  {
   "cell_type": "code",
   "execution_count": null,
   "id": "a6de9d52",
   "metadata": {
    "scrolled": true
   },
   "outputs": [],
   "source": [
    "plt.xlabel(\"angle d'incidence x en °\") # légende sur l'axe des abscisses\n",
    "plt.ylabel(\"angle de réfraction y en °\") # légende sur l'axe des ordonnées\n",
    "plt.title(\"y en fonction de x\") # texte du titre\n",
    "plt.scatter(x,y) \n",
    "plt.show()"
   ]
  },
  {
   "cell_type": "markdown",
   "id": "8b9211c1",
   "metadata": {},
   "source": [
    "Dans le cas de l'affichage de plusieurs courbes sur le même graphique, il peut être pratique de donner la légende des couleurs utilisées. Cela est possible avec l'instruction `plt.legend()` à condition de modifier l'instruction `plt.scatter` comme suit :"
   ]
  },
  {
   "cell_type": "code",
   "execution_count": null,
   "id": "d16fee8b",
   "metadata": {
    "scrolled": true
   },
   "outputs": [],
   "source": [
    "plt.xlabel(\"angle d'incidence x en °\") # légende sur l'axe des abscisses\n",
    "plt.ylabel(\"angle de réfraction y en °\") # légende sur l'axe des ordonnées\n",
    "plt.title(\"y en fonction de x\") #texte du titre\n",
    "plt.scatter(x,y, label = \"valeurs mesurées\") # on ajoute le texte du \"label\" qui correspond à la légende\n",
    "plt.legend() #affichage de la légende\n",
    "plt.show()"
   ]
  },
  {
   "cell_type": "markdown",
   "id": "670ce7af",
   "metadata": {},
   "source": [
    "Une petite remarque sur les notations dans `xlabel` et `ylabel`. Les lettres `x` (de `xlabel` ) et `y` (de `ylabel` ) ne sont pas en lien avec le nom des listes données. Exécuter le bloc suivant pour vous en convaincre :"
   ]
  },
  {
   "cell_type": "code",
   "execution_count": null,
   "id": "db0381bc",
   "metadata": {},
   "outputs": [],
   "source": [
    "i=[0,10,20,30,40,50,60,70,80]\n",
    "r=[0,7,13,20,25,30,35,39.5,40.5]\n",
    "print(\"angles d'incidence i : \",i)\n",
    "print(\"angles de refraction r : \",r)\n",
    "plt.xlabel(\"angle d'incidence i en °\") # légende sur l'axe des abscisses\n",
    "plt.ylabel(\"angle de réfraction r en °\") # légende sur l'axe des ordonnées\n",
    "plt.title(\"r en fonction de i\") #texte du titre\n",
    "plt.scatter(i,r, label = \"valeurs mesurées\") # ici, le nom des variables sont désormais i et r\n",
    "plt.legend() #affichage de la légende\n",
    "plt.show()"
   ]
  },
  {
   "cell_type": "markdown",
   "id": "16fe399b",
   "metadata": {},
   "source": [
    "Bien entendu, dans l'instruction `plt.scatter` , il faut saisir le nom des listes dont on souhaite représenter les valeurs correspondantes."
   ]
  },
  {
   "cell_type": "markdown",
   "id": "a7efa72c",
   "metadata": {},
   "source": [
    "<div class=\"panel panel-default\">\n",
    "    <div class=\"panel-heading\"><h2>MODIFIER L'ASPECT DES POINTS</h2></div>\n",
    "    <div class=\"panel-body\">\n",
    "\n",
    "Dans cette partie, je vous propose de découvrir comment changer le symbole (=**marker**) représentant les points expérimentaux.\n",
    "</div>"
   ]
  },
  {
   "cell_type": "markdown",
   "id": "7beec852",
   "metadata": {},
   "source": [
    "Il existe plusieurs représentations possibles pour le **marker**. Voici QUELQUES exemples :\n",
    "\n",
    "| code du marker \t| forme du marker \t|\n",
    "|:---:\t|:---:\t|\n",
    "| 'o' \t| cercle \t|\n",
    "| '+' \t| plus \t|\n",
    "| 'x' \t| croix \t|\n",
    "| '*' \t| étoile \t|\n",
    "| 'v' \t| triangle vers le bas \t|\n",
    "| '^' \t| triangle vers le haut \t|\n",
    "| 's' \t| carré \t|"
   ]
  },
  {
   "cell_type": "markdown",
   "id": "ef71148e",
   "metadata": {},
   "source": [
    "Il est possible aussi de changer la couleur du marker. Voici QUELQUES exemples :\n",
    "\n",
    "| code de la couleur \t| couleur \t|\n",
    "|:---:\t|:---:\t|\n",
    "| 'b' \t| bleu \t|\n",
    "| 'g' \t| vert \t|\n",
    "| 'r' \t| rouge \t|\n",
    "| 'c' \t| cyan \t|\n",
    "| 'm' \t| magenta \t|\n",
    "| 'y' \t| jaune \t|\n",
    "| 'k' \t| noir \t|\n",
    "| 'w' \t| blanc \t|\n",
    "\n",
    "Il est également possible de changer la taille du marker (il faut alors ajouter dans l'instruction `plt.scatter` la mention `s=` suivi de la taille du marker )"
   ]
  },
  {
   "cell_type": "markdown",
   "id": "0389cf10",
   "metadata": {},
   "source": [
    "<div class=\"alert alert-warning\">\n",
    "<h2><b>À propos de plt.scatter</b></h2><br>\n",
    "    \n",
    "  L'instruction `matplotlib.pyplot.scatter(x,y)` permet d'afficher des points sous forme de symboles appelés **markers**. À noter que \"x\" et \"y\" sont les noms des variables utilisées respectivement en abscisses et en ordonnées.\n",
    "<br>Il est possible de modifier la couleur, la forme et la taille du marker (il est également possible de changer la couleur du contour du marker !!).\n",
    "<br> Si l'alias `plt`a été choisi, l'instruction devient `plt.scatter(x,y)`.\n",
    "<br>\n",
    "<br>Pour faire simple, je vous propose de retenir la structure suivante (qui peut être complétée ou simplifiée en fonction des besoins) :<br><br>\n",
    "    <p>`plt.scatter (nom_liste_abs,nom_liste_ord,marker='symbole_choisi',s=taille_choisie,c='nom_couleur_choisie', label='texte de la légende des points')`</p>\n",
    "    \n",
    "    \n",
    "<br><br>À noter que dans l'instruction `plt.scatter`, il faut préciser **au minimum** le nom des variables utilisées pour les abscisses et les ordonnées. L'ordre des indications `marker`, `c`etc. n'a pas d'importance.\n",
    "</div>"
   ]
  },
  {
   "cell_type": "markdown",
   "id": "d5dc949b",
   "metadata": {},
   "source": [
    "<b>Modifier</b> le script suivant pour que les symboles soient des + de couleur noire et de taille 120."
   ]
  },
  {
   "cell_type": "code",
   "execution_count": null,
   "id": "ac6a46ec",
   "metadata": {
    "scrolled": false
   },
   "outputs": [],
   "source": [
    "i=[0,10,20,30,40,50,60,70,80]\n",
    "r=[0,7,13,20,25,30,35,39.5,40.5]\n",
    "print(\"angles d'incidence i : \",i)\n",
    "print(\"angles de refraction r : \",r)\n",
    "plt.xlabel(\"angle d'incidence i en °\") # légende sur l'axe des abscisses\n",
    "plt.ylabel(\"angle de réfraction r en °\") # légende sur l'axe des ordonnées\n",
    "plt.title(\"r en fonction de i\") #texte du titre\n",
    "plt.scatter(i,r, label = \"valeurs mesurées\") # on ajoute le texte du \"label\" qui correspond à la légende\n",
    "plt.legend() #affichage de la légende\n",
    "plt.show()"
   ]
  },
  {
   "cell_type": "markdown",
   "id": "fd4dc650",
   "metadata": {},
   "source": [
    "<details>\n",
    "<summary>  <b> > Cliquer UNE FOIS sur le mot SOLUTION pour faire apparaître une solution</b> </summary>\n",
    "\n",
    "\n",
    "```\n",
    "    i=[0,10,20,30,40,50,60,70,80]\n",
    "r=[0,7,13,20,25,30,35,39.5,40.5]\n",
    "print(\"angles d'incidence i : \",i)\n",
    "print(\"angles de refraction r : \",r)\n",
    "plt.xlabel(\"angle d'incidence i en °\") # légende sur l'axe des abscisses\n",
    "plt.ylabel(\"angle de réfraction r en °\") # légende sur l'axe des ordonnées\n",
    "plt.title(\"r en fonction de i\") #texte du titre\n",
    "plt.scatter(i,r, c='k',marker='+', s = 120, label = 'valeurs mesurées') # on ajoute le texte du \"label\" qui correspond à la légende\n",
    "plt.legend() #affichage de la légende\n",
    "plt.show()\n",
    "    ```\n",
    "<br>\n",
    "\n",
    "</details>"
   ]
  },
  {
   "cell_type": "markdown",
   "id": "96638d61",
   "metadata": {},
   "source": [
    "<div class=\"panel panel-default\">\n",
    "    <div class=\"panel-heading\"><h2>FAIRE LE CHOIX DISCUTABLE DE RELIER LES POINTS PAR UNE LIGNE</h2></div>\n",
    "    <div class=\"panel-body\">\n",
    "\n",
    "En physique-chimie, nous préférons représenter les données par des symboles (avec le + en général) et de représenter la <i>modélisation</i> d'un nuage de points par un tracé de type \"ligne\" remplaçant les points. Avant d'aborder la notion de représentation de modélisation, voyons dans cette partie comment il nous est possible de relier les points entre eux.</div>"
   ]
  },
  {
   "cell_type": "markdown",
   "id": "932170a9",
   "metadata": {},
   "source": [
    "L'instruction `pyplot.scatter(x,y)` permet de représenter des points à l'aide d'un symbole.\n",
    "<br> Pour relier ces points entre eux, il est possible d'utiliser l'insctruction `pyplot.plot(x,y)`.\n",
    "<br> Bien entendu, si l'alias `plt` a été choisi, l'instruction devient : `plt.plot(x,y)`."
   ]
  },
  {
   "cell_type": "markdown",
   "id": "c90b6361",
   "metadata": {},
   "source": [
    "<div class=\"alert alert-warning\">\n",
    "<h2><b>À propos de plt.plot</b></h2><br>\n",
    "    \n",
    "  L'instruction `matplotlib.pyplot.plot(x,y)` permet de remplacer des points sur un graphique par une ligne qui les relie. À noter que \"x\" et \"y\" sont les noms des variables utilisées respectivement en abscisses et en ordonnées.\n",
    "<br> Si l'alias `plt` a été choisi, l'instruction devient `plt.plot(x,y)`.\n",
    "<br>\n",
    "<br>Comme pour l'instruction scatter, il est possible d'ajuster certains paramètres \"esthétiques\" :\n",
    "    \n",
    "- `c` (ou `color`) : couleur de la ligne ;\n",
    "- `ls` ou `linestyle` : choix du style de la ligne qui peut être 'solid' (ligne en continu), 'dotted' (trait en pointillé), 'dashed' (trait en tiret) ou 'dashdot' (trait du type -.-.) ;\n",
    "- `lw` ou `linewidth`: nombre indiquant l'épaisseur du trait ;\n",
    "- marker : type de symbole des points qu'on peut ajouter à la ligne - voir le tableau plus haut sur le symboles des markers ;\n",
    "- ms (ou `markersize`) : taille du marker ;\n",
    "- markeredgewidth : nombre pour l'épaisseur du marker.\n",
    "    \n",
    "<br>Pour faire simple, je vous propose de retenir la structure suivante (qui peut être complétée ou simplifiée en fonction des besoins) :<br><br>\n",
    "    <p>`plt.plot(nom_liste_abs,nom_liste_ord,marker='symbole_choisi',ms=taille_choisie,c='nom_couleur_choisie_ligne_et marker', markeredgewidth= nombre pour l'épaisseur du marker, lw=épaisseur_du_trait,ls = 'solid',label='texte de la légende des points')`</p>\n",
    "    \n",
    "    \n",
    "<br><br>À noter que dans l'instruction `plt.plot` , il faut préciser **au minimum** le nom des variables utilisées pour les abscisses et les ordonnées. L'ordre des indications `marker`, `c`etc. n'a pas d'importance.\n",
    "</div>"
   ]
  },
  {
   "cell_type": "markdown",
   "id": "b90eadb5",
   "metadata": {},
   "source": [
    "Exéctuer le bloc suivant :"
   ]
  },
  {
   "cell_type": "code",
   "execution_count": null,
   "id": "20867b38",
   "metadata": {
    "scrolled": true
   },
   "outputs": [],
   "source": [
    "import matplotlib.pyplot as plt\n",
    "i=[0,10,20,30,40,50,60,70,80]\n",
    "r=[0,7,13,20,25,30,35,39.5,40.5]\n",
    "print(\"angles d'incidence i : \",i)\n",
    "print(\"angles de refraction r : \",r)\n",
    "plt.xlabel(\"angle d'incidence i en °\") # légende sur l'axe des abscisses\n",
    "plt.ylabel(\"angle de réfraction r en °\") # légende sur l'axe des ordonnées\n",
    "plt.title(\"r en fonction de i\") #texte du titre\n",
    "plt.plot(i,r,label = \"valeurs mesurées\") # on affiche juste la ligne qui remplace les points qu'elle relie\n",
    "plt.legend() #affichage de la légende\n",
    "plt.show()"
   ]
  },
  {
   "cell_type": "markdown",
   "id": "c3548bf0",
   "metadata": {},
   "source": [
    "Exéctuer maintenant le bloc suivant :"
   ]
  },
  {
   "cell_type": "code",
   "execution_count": null,
   "id": "28d3e5f6",
   "metadata": {},
   "outputs": [],
   "source": [
    "import matplotlib.pyplot as plt # à noter qu'il est inutile d'importer ici la bibliothèque car cela fut fait dès le début du notebook\n",
    "i=[0,10,20,30,40,50,60,70,80]\n",
    "r=[0,7,13,20,25,30,35,39.5,40.5]\n",
    "print(\"angles d'incidence i : \",i)\n",
    "print(\"angles de refraction r : \",r)\n",
    "plt.xlabel(\"angle d'incidence i en °\") # légende sur l'axe des abscisses\n",
    "plt.ylabel(\"angle de réfraction r en °\") # légende sur l'axe des ordonnées\n",
    "plt.title(\"r en fonction de i\") #texte du titre\n",
    "plt.plot(i,r, marker='+', ms = 18, c = 'r', label = \"valeurs mesurées\") # ligne et marker de taille 18 et rouge\n",
    "plt.legend() #affichage de la légende\n",
    "plt.show()"
   ]
  },
  {
   "cell_type": "markdown",
   "id": "c0c8f90d",
   "metadata": {},
   "source": [
    "Nous sommes d'accord : lorsque nous avons un nuage de points, nous représentons sa modélisation et non une représentation d'une ligne reliant ces points - même lissée. Donc, on peut se dire qu'a priori, nous n'utiliserons jamais l'instruction `plot`.<br> Toutefois, l'usage de l'instruction `plot` pourrait nous être utile comme nous le verrons plus tard."
   ]
  },
  {
   "cell_type": "markdown",
   "id": "b00804ac",
   "metadata": {},
   "source": [
    " <div class=\"panel panel-default\">\n",
    "    <div class=\"panel-heading\"><h2>AFFICHER UNE GRILLE DE COORDONNÉES</h2></div>\n",
    "    <div class=\"panel-body\">\n",
    "\n",
    "Dans cette partie, nous allons découvrir qu'il est possible de faire afficher une grille de coordonnées sur un graphique.</div>"
   ]
  },
  {
   "cell_type": "markdown",
   "id": "0b5c6c1c",
   "metadata": {},
   "source": [
    "L'instruction permettant un tel affichage est `matplotlib.pyplot.grid(True)` .\n",
    "<br> Bien entendu, en cas d'usage de l'alias `plt`, l'instruction devient `plt.grid(True)` ."
   ]
  },
  {
   "cell_type": "markdown",
   "id": "8c9a1141",
   "metadata": {},
   "source": [
    "Exécuter le bloc suivant pour voir l'effet d'une telle instruction - j'ai choisi volontairement une taille disproportionnée pour les points."
   ]
  },
  {
   "cell_type": "code",
   "execution_count": null,
   "id": "3ac1a87b",
   "metadata": {
    "scrolled": false
   },
   "outputs": [],
   "source": [
    "import matplotlib.pyplot as plt\n",
    "i=[0,10,20,30,40,50,60,70,80]\n",
    "r=[0,7,13,20,25,30,35,39.5,40.5]\n",
    "print(\"angles d'incidence i : \",i)\n",
    "print(\"angles de refraction r : \",r)\n",
    "plt.xlabel(\"angle d'incidence i en °\") # légende sur l'axe des abscisses\n",
    "plt.ylabel(\"angle de réfraction r en °\") # légende sur l'axe des ordonnées\n",
    "plt.title(\"r en fonction de i\") #texte du titre\n",
    "plt.scatter(i,r,s=220,label = \"valeurs mesurées\") # on ajoute le texte du \"label\" qui correspond à la légende\n",
    "plt.legend() #affichage de la légende\n",
    "plt.grid(True) #affichage de la grille de coordonnées\n",
    "plt.show()"
   ]
  },
  {
   "cell_type": "markdown",
   "id": "496120f4",
   "metadata": {},
   "source": [
    "Voyez vous le \"problème\" esthétique ? La grille s'affiche PAR DESSUS les points. Cela n'est bien entendu pas grave techniquement mais ce n'est pas forcément ce qu'on attendait."
   ]
  },
  {
   "cell_type": "markdown",
   "id": "fe4044df",
   "metadata": {},
   "source": [
    "<div class=\"alert alert-warning\">\n",
    "<h2><b>FIGURES ET GRAPHES : QUESTION DE VOCABULAIRE </b></h2><br>\n",
    "    \n",
    " Ce mémo n'est pas du tout crucial. Il permet d'expliciter un point de vocabulaire.\n",
    "<br> On appelle *figure* un ensemble de ce qui est représenté dans une fenêtre graphique : cela peut être une image, un graphe, deux graphes, trois graphes, etc.\n",
    "<br>\n",
    "On appelle *graphe* une partie de la *figure* et qui est caractérisé par des points, des axes, des graduations, des markers et/ou des lignes, etc. Un *graphe* est un objet de `type` **axes**. (Le nom choisi est particulièrement ambigüe ...).\n",
    "<br><br>\n",
    "    Les fonctions `scatter(x,y)` et `plot(x,y)` créent des graphes qui seront donc associés à une figure.\n",
    "<br><br>Il est possible d'accéder à cette figure et au graphe attaché à cette figure à l'aide des instructions suivantes (et dans le cas où l'alias `plt` a été choisi pour `matplotlib.pyplot` ) :\n",
    "- `fig = plt.gcf()` avec **gcf** pour *get current figure* >> permet d'accéder à la figure ;\n",
    "- `ax = plt.gca()`avec **gca** pour *get current axes* >> permet d'accéder au graphe.\n",
    "<br><br>Il est également possible de condenser ces deux lignes avec la commande :<br>\n",
    "    <br> `fig,ax=matplotlib.pyplot.subplots()` ou `fig,ax=plt.subplots()`dans le cas de l'usage de l'alias `plt`."
   ]
  },
  {
   "cell_type": "markdown",
   "id": "6f313891",
   "metadata": {},
   "source": [
    "<div class=\"alert alert-warning\">\n",
    "<h2><b>L'INSTRUCTION set_axisbelow(True) </b></h2><br>\n",
    "    \n",
    "Pour placer la grille de coordonnées, derrière les points expérimentaux, il suffit de changer un des attributs du graphe à l'aide de la fonction `set_axisbelow(True)`.\n",
    "<br>\n",
    "<br>\n",
    "Exemple de rédaction :\n",
    "    \n",
    "```fig,ax=plt.subplots()\n",
    "ax.setaxisbelow(True)```\n",
    "\n",
    "<br>ou autre exemple :\n",
    "```ax=plt.gca()\n",
    "ax.set_axisbelow(True)```\n",
    "    \n",
    "<br>\n",
    "\n",
    "Plus d'information sur l'instruction `set_axisbelow(True)` sur le site <a href = \"https://matplotlib.org/stable/api/_as_gen/matplotlib.axes.Axes.set_axisbelow.html\" target=\"_blank\">https://matplotlib.org/stable/api/_as_gen/matplotlib.axes.Axes.set_axisbelow.html</a>"
   ]
  },
  {
   "cell_type": "markdown",
   "id": "057be6b4",
   "metadata": {},
   "source": [
    "Pour fixer les idées, je vous propose de lire le script suivant puis d'exécuter le bloc :"
   ]
  },
  {
   "cell_type": "code",
   "execution_count": null,
   "id": "f88ecda8",
   "metadata": {
    "scrolled": true
   },
   "outputs": [],
   "source": [
    "import matplotlib.pyplot as plt\n",
    "i=[0,10,20,30,40,50,60,70,80]\n",
    "r=[0,7,13,20,25,30,35,39.5,40.5]\n",
    "print(\"angles d'incidence i : \",i)\n",
    "print(\"angles de refraction r : \",r)\n",
    "fig,ax=plt.subplots() # on accéde à la figure et au graphe courant\n",
    "ax.set_axisbelow(True) # on change un des attributs du graphe\n",
    "plt.xlabel(\"angle d'incidence i en °\") # légende sur l'axe des abscisses\n",
    "plt.ylabel(\"angle de réfraction r en °\") # légende sur l'axe des ordonnées\n",
    "plt.title(\"r en fonction de i\") #texte du titre\n",
    "plt.scatter(i,r,s=220,label = \"valeurs mesurées\") # on ajoute le texte du \"label\" qui correspond à la légende\n",
    "plt.legend() #affichage de la légende\n",
    "plt.grid(True) #affichage de la grille de coordonnées\n",
    "plt.show()"
   ]
  },
  {
   "cell_type": "markdown",
   "id": "2256febf",
   "metadata": {},
   "source": [
    "Il est possible d'alléger le script. Lire le script suivant puis exécuter le bloc :"
   ]
  },
  {
   "cell_type": "code",
   "execution_count": null,
   "id": "44392a31",
   "metadata": {},
   "outputs": [],
   "source": [
    "import matplotlib.pyplot as plt\n",
    "i=[0,10,20,30,40,50,60,70,80]\n",
    "r=[0,7,13,20,25,30,35,39.5,40.5]\n",
    "print(\"angles d'incidence i : \",i)\n",
    "print(\"angles de refraction r : \",r)\n",
    "ax=plt.gca() # on accéde au graphe courant\n",
    "ax.set_axisbelow(True) # on modifie un des attributs du graphe courant\n",
    "plt.xlabel(\"angle d'incidence i en °\") # légende sur l'axe des abscisses\n",
    "plt.ylabel(\"angle de réfraction r en °\") # légende sur l'axe des ordonnées\n",
    "plt.title(\"r en fonction de i\") #texte du titre\n",
    "plt.scatter(i,r,s=220,label = \"valeurs mesurées\") # on ajoute le texte du \"label\" qui correspond à la légende\n",
    "plt.legend() #affichage de la légende\n",
    "plt.grid(True) #affichage de la grille de coordonnées\n",
    "plt.show()"
   ]
  },
  {
   "cell_type": "markdown",
   "id": "ea78f181",
   "metadata": {},
   "source": [
    "<div class=\"panel panel-default\">\n",
    "    <div class=\"panel-heading\"><h2>AFFICHER DEUX REPRÉSENTATIONS GRAPHIQUES SUR LE MÊME GRAPHE</h2></div>\n",
    "    <div class=\"panel-body\">\n",
    "\n",
    "Dans cette partie, nous allons découvrir qu'il est possible afficher plusieurs représentations de données différentes sur un même graphe.\n",
    "</div>"
   ]
  },
  {
   "cell_type": "markdown",
   "id": "21be689a",
   "metadata": {},
   "source": [
    "Je vous propose de continuer à travailler avec des objets de type `list`. Prochainement, nous travaillerons avec des objets de type tableaux via la bilbliothèque `numpy`.\n",
    "<br>\n",
    "Comme nous l'avons vu précédemment, lorsque nous souhaitions représenter des valeurs de *y* en fonction des valeurs de *x* correspondantes, nous avions créé deux listes (de même taille chacune).\n",
    "Si nous souhaitons représenter d'autres données, il suffit de créer à chaque fois des couples de nouvelles listes."
   ]
  },
  {
   "cell_type": "markdown",
   "id": "e57b4af9",
   "metadata": {},
   "source": [
    "Lire le script suivant. Prévoir le résultat de son exécution. Puis, exécuter le bloc suivant :"
   ]
  },
  {
   "cell_type": "code",
   "execution_count": null,
   "id": "304e5a4d",
   "metadata": {
    "scrolled": true
   },
   "outputs": [],
   "source": [
    "import matplotlib.pyplot as plt\n",
    "x1 = [0,1.2,4,8,10]\n",
    "y1 = [0,2.4,8,16,20]\n",
    "x2 = [0,2,3,5]\n",
    "y2 = [0,6,9,15]\n",
    "plt.plot(x1,y1,c=\"k\", marker=\"+\", ms = 18, markeredgewidth=4, ls = 'dashed',label=\"série 1\")\n",
    "plt.plot(x2,y2,c='r',marker=\"o\",ms=8,ls='solid',label = 'série 2')\n",
    "plt.legend()\n",
    "plt.grid(True)\n",
    "plt.show()"
   ]
  },
  {
   "cell_type": "markdown",
   "id": "828d4b0a",
   "metadata": {},
   "source": [
    "Avez-vous remarqué l'instruction `markeredgewidth` dans `plt.plot(x1, y1)` ? cela permet d'indiquer l'épaisseur d'un marker lors de l'exécution de `plt.plot` . Noter aussi que la taille du marker est précisée via `ms` dans `plt.plot` et non plus `s` comme dans `plt.scatter`. "
   ]
  },
  {
   "cell_type": "markdown",
   "id": "cfbd8a57",
   "metadata": {},
   "source": [
    "Il arrive qu'on ait deux représentations graphiques à représenter avec des valeurs d'ordonnées communes aux deux séries de valeurs. C'est interessant de comprendre que `plt.plot()`renvoie à une liste de courbes."
   ]
  },
  {
   "cell_type": "markdown",
   "id": "866040dd",
   "metadata": {},
   "source": [
    "Exécuter le bloc suivant contenant une notation \"condensée\" pour le style de la ligne et des markers :"
   ]
  },
  {
   "cell_type": "code",
   "execution_count": null,
   "id": "859ad6d3",
   "metadata": {
    "scrolled": false
   },
   "outputs": [],
   "source": [
    "import matplotlib.pyplot as plt\n",
    "%matplotlib inline\n",
    "I = [0,0.025,0.050,0.075,0.1]\n",
    "U1 = [0,0.05,0.1,0.15,0.2]\n",
    "U2 = [0,0.1,0.2,0.30,0.4]\n",
    "plt.plot(I,U1,'bs-',I,U2,'rv--')\n",
    "plt.grid(True)\n",
    "plt.show()"
   ]
  },
  {
   "cell_type": "markdown",
   "id": "8fd2285c",
   "metadata": {},
   "source": [
    "<div class=\"panel panel-default\">\n",
    "    <div class=\"panel-heading\"><h2>En résumé</h2></div>\n",
    "    <div class=\"panel-body\">\n",
    "\n",
    "En guise de trace de cours, je vous propose ce support qui complètera je l'espère vos prises de notes.\n",
    "</div>"
   ]
  },
  {
   "cell_type": "markdown",
   "id": "7468cf6d",
   "metadata": {},
   "source": [
    "<div class=\"alert alert-warning\">\n",
    "<h2><b>TRACER UN GRAPHE : Un exemple de structure de programme à partir de listes</b></h2><br>\n",
    "    <span><img src=\"diapo illustrations\\diapo graphiques - exemple 1 structure.jpeg\" alt=\"drawing\" width=\"800\"style=\"float:center\"/></span>\n",
    "    <p><b>Pour aller plus loin sur les représentations graphiques : </b><a href=\"https://matplotlib.org/stable/tutorials/index.html\" target=\"_blank\">https://matplotlib.org/stable/tutorials/index.html</a></p>\n",
    "    \n",
    "<br>\n",
    "</div>"
   ]
  },
  {
   "cell_type": "code",
   "execution_count": null,
   "id": "3d7e6ac3",
   "metadata": {},
   "outputs": [],
   "source": []
  }
 ],
 "metadata": {
  "jupytext": {
   "cell_metadata_filter": "all, -hidden, -heading_collapsed, -run_control, -trusted",
   "notebook_metadata_filter": "all, -jupytext.text_representation.jupytext_version, -jupytext.text_representation.format_version, -language_info.version, -language_info.codemirror_mode.version, -language_info.codemirror_mode, -language_info.file_extension, -language_info.mimetype, -toc",
   "text_representation": {
    "extension": ".md",
    "format_name": "myst"
   }
  },
  "kernelspec": {
   "display_name": "Python 3",
   "language": "python",
   "name": "python3"
  },
  "language_info": {
   "codemirror_mode": {
    "name": "ipython",
    "version": 3
   },
   "file_extension": ".py",
   "mimetype": "text/x-python",
   "name": "python",
   "nbconvert_exporter": "python",
   "pygments_lexer": "ipython3",
   "version": "3.8.8"
  },
  "notebookname": "Noms de variables",
  "version": "3.0"
 },
 "nbformat": 4,
 "nbformat_minor": 5
}
