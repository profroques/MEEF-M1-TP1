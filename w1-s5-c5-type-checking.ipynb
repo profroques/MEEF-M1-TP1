{
 "cells": [
  {
   "cell_type": "markdown",
   "id": "4bbebebd",
   "metadata": {},
   "source": [
    "<div class=\"licence\">\n",
    "<span>Licence CC BY-NC-ND</span>\n",
    "<span>Thierry Parmentelat &amp; Arnaud Legout</span>\n",
    "<span><img src=\"media/both-logos-small-alpha.png\" /></span>\n",
    "</div>"
   ]
  },
  {
   "cell_type": "markdown",
   "id": "2ab8b586",
   "metadata": {},
   "source": [
    "# Typages statique et dynamique"
   ]
  },
  {
   "cell_type": "markdown",
   "id": "13a48770",
   "metadata": {},
   "source": [
    "## Complément - niveau intermédiaire"
   ]
  },
  {
   "cell_type": "markdown",
   "id": "25193a86",
   "metadata": {},
   "source": [
    "Parmi les langages typés, on distingue les langages à typage statique et ceux à typage dynamique. Ce notebook tente d'éclaircir ces notions pour ceux qui n'y sont pas familiers."
   ]
  },
  {
   "cell_type": "markdown",
   "id": "8d37039e",
   "metadata": {},
   "source": [
    "### Typage statique"
   ]
  },
  {
   "cell_type": "markdown",
   "id": "e379cab7",
   "metadata": {},
   "source": [
    "À une extrémité du spectre, on trouve les langages compilés, dits à typage statique, comme par exemple C ou C++.\n",
    "\n",
    "En C on écrira, par exemple, une version simpliste de la fonction factoriel comme ceci :"
   ]
  },
  {
   "cell_type": "markdown",
   "id": "f5b8898f",
   "metadata": {},
   "source": [
    "```C\n",
    "int factoriel(int n) {\n",
    "    int result = 1;\n",
    "    for (int loop = 1; loop <= n; loop++)\n",
    "        result *= loop;\n",
    "    return result;\n",
    "}\n",
    "```"
   ]
  },
  {
   "cell_type": "markdown",
   "id": "dcc73b29",
   "metadata": {},
   "source": [
    "Comme vous pouvez le voir - ou le deviner - toutes les **variables** utilisées ici (comme par exemple `n`, `result` et `loop`) sont typées :\n",
    "\n",
    "* on doit appeler `factoriel` avec un argument `n` qui doit être un entier (`int` est le nom du type entier) ;\n",
    "* les variables internes `result` et `loop` sont de type entier ;\n",
    "* `factoriel` retourne une valeur de type entier."
   ]
  },
  {
   "cell_type": "markdown",
   "id": "77cf649a",
   "metadata": {},
   "source": [
    "Ces informations de type ont essentiellement trois fonctions :\n",
    "\n",
    "* en premier lieu, elles sont nécessaires au compilateur. En C si le programmeur ne précisait pas que `result` est de type entier, le compilateur n'aurait pas suffisamment d'éléments pour générer le code assembleur correspondant ;\n",
    "* en contrepartie, le programmeur a un contrôle très fin de l'usage qu'il fait de la mémoire et du matériel. Il peut choisir d'utiliser un entier sur 32 ou 64 bits, signé ou pas, ou construire avec `struct` et `union` un arrangement de ses données ;\n",
    "* enfin, et surtout, ces informations de type permettent de faire un contrôle *a priori* de la validité du programme, par exemple, si à un autre endroit dans le code on trouve :"
   ]
  },
  {
   "cell_type": "markdown",
   "id": "b4e672b8",
   "metadata": {},
   "source": [
    "```C\n",
    "#include <stdio.h>\n",
    "\n",
    "int main(int argc, char *argv[]) {\n",
    "    /* le premier argument de la ligne de commande est argv[1] */\n",
    "    char *input = argv[1];\n",
    "    /* calculer son factoriel et afficher le résultat */\n",
    "    printf(\"Factoriel (%s) = %d\\n\", input, factoriel(input));\n",
    "    /*                                               ^^^^^\n",
    "\n",
    "     * ici on appelle factoriel avec une entrée de type 'chaîne de caractères' */\n",
    "}\n",
    "```"
   ]
  },
  {
   "cell_type": "markdown",
   "id": "6fef6b05",
   "metadata": {},
   "source": [
    "alors le compilateur va remarquer qu'on essaie d'appeler `factoriel` avec comme argument `input` qui, pour faire simple, est une chaîne de caractères et comme `factoriel` s'attend à recevoir un entier, ce programme n'a aucune chance de compiler.\n",
    "\n",
    "On parle alors de **typage statique**, en ce sens que chaque **variable** a exactement un type qui est défini par le programmeur une bonne fois pour toutes."
   ]
  },
  {
   "cell_type": "markdown",
   "id": "06a6c885",
   "metadata": {},
   "source": [
    "C'est ce qu'on appelle le **contrôle de type**, ou *type-checking* en anglais. Si on ignore le point sur le contrôle fin de la mémoire, qui n'est pas crucial à notre sujet, ce modèle de contrôle de type présente&nbsp;:\n",
    "\n",
    "* l'**inconvénient** de demander davantage au programmeur (je fais abstraction, à ce stade et pour simplifier, de [langages à inférence de types](https://en.wikipedia.org/wiki/Type_inference) comme ML et Haskell) ;\n",
    "* et l'**avantage** de permettre un contrôle étendu, et surtout précoce (avant même de l'exécuter), de la bonne correction du programme."
   ]
  },
  {
   "cell_type": "markdown",
   "id": "9acf86f2",
   "metadata": {},
   "source": [
    "Cela étant dit, le typage statique en C n'empêche pas le programmeur débutant d'essayer d'écrire dans la mémoire à partir d'un pointeur `NULL` - et le programme de s'interrompre brutalement. Il faut être conscient des limites du typage statique."
   ]
  },
  {
   "cell_type": "markdown",
   "id": "25fa6698",
   "metadata": {},
   "source": [
    "### Typage dynamique"
   ]
  },
  {
   "cell_type": "markdown",
   "id": "1d412c61",
   "metadata": {},
   "source": [
    "À l'autre bout du spectre, on trouve des langages comme, eh bien, Python."
   ]
  },
  {
   "cell_type": "markdown",
   "id": "44bdbb82",
   "metadata": {},
   "source": [
    "Pour comprendre cette notion de typage dynamique, regardons la fonction suivante `somme`."
   ]
  },
  {
   "cell_type": "code",
   "execution_count": null,
   "id": "5c38f2e5",
   "metadata": {},
   "outputs": [],
   "source": [
    "def somme(*largs):\n",
    "    \"retourne la somme de tous ses arguments\"\n",
    "    if not largs:\n",
    "        return 0\n",
    "    result = largs[0]\n",
    "    for i in range(1, len(largs)):\n",
    "        result += largs[i]\n",
    "    return result"
   ]
  },
  {
   "cell_type": "markdown",
   "id": "aa5168dc",
   "metadata": {},
   "source": [
    "Naturellement, vous n'êtes pas à ce stade en mesure de comprendre le fonctionnement intime de la fonction. Mais vous pouvez tout de même l'utiliser :"
   ]
  },
  {
   "cell_type": "code",
   "execution_count": null,
   "id": "77f96abf",
   "metadata": {
    "scrolled": true
   },
   "outputs": [],
   "source": [
    "somme(12, 14, 300)"
   ]
  },
  {
   "cell_type": "code",
   "execution_count": null,
   "id": "18e13ddf",
   "metadata": {
    "scrolled": true
   },
   "outputs": [],
   "source": [
    "liste1 = ['a', 'b', 'c']\n",
    "liste2 = [0, 20, 30]\n",
    "liste3 = ['spam', 'eggs']\n",
    "somme(liste1, liste2, liste3)"
   ]
  },
  {
   "cell_type": "markdown",
   "id": "436cf498",
   "metadata": {},
   "source": [
    "Vous pouvez donc constater que `somme` peut fonctionner avec des objets de types différents. En fait, telle qu'elle est écrite, elle va fonctionner s'il est possible de faire `+` entre ses arguments. Ainsi, par exemple, on pourrait même faire :"
   ]
  },
  {
   "cell_type": "code",
   "execution_count": null,
   "id": "8319c66d",
   "metadata": {},
   "outputs": [],
   "source": [
    "# Python sait faire + entre deux chaînes de caractères\n",
    "somme('abc', 'def')"
   ]
  },
  {
   "cell_type": "markdown",
   "id": "70214278",
   "metadata": {},
   "source": [
    "Mais par contre on ne pourrait pas faire"
   ]
  },
  {
   "cell_type": "code",
   "execution_count": null,
   "id": "b0197998",
   "metadata": {
    "latex:hidden-code-instead": "try:\n    somme(12, [1, 2, 3])\nexcept:\n    print('OOPS')"
   },
   "outputs": [],
   "source": [
    "# ceci va déclencher une exception à l'exécution\n",
    "somme(12, [1, 2, 3])"
   ]
  },
  {
   "cell_type": "markdown",
   "id": "b1aed766",
   "metadata": {},
   "source": [
    "Il est utile de remarquer que le typage de Python, qui existe bel et bien comme on le verra, est qualifié de dynamique parce que le type est attaché **à un objet** et non à la variable qui le référence. On aura bien entendu l'occasion d'approfondir tout ça dans le cours."
   ]
  },
  {
   "cell_type": "markdown",
   "id": "8c2c71fd",
   "metadata": {},
   "source": [
    "En Python, on fait souvent référence au typage sous l'appellation *duck typing*, de manière imagée :\n",
    "\n",
    "> If it looks like a duck and quacks like a duck, it's a duck."
   ]
  },
  {
   "cell_type": "markdown",
   "id": "252fadf2",
   "metadata": {},
   "source": [
    "On voit qu'on se trouve dans une situation très différente de celle du programmeur C/C++, en ce sens que&nbsp;:\n",
    "\n",
    "* à l'écriture du programme, il n'y aucun des surcoûts qu'on trouve avec C ou C++ en matière de définition de type ;\n",
    "* aucun contrôle de type n'est effectué *a priori* par le langage au moment de la définition de la fonction `somme` ;\n",
    "* par contre au moment de l'exécution, s'il s'avère qu'on tente de faire une somme entre deux types qui ne peuvent pas être additionnés, comme ci-dessus avec un entier et une liste, le programme ne pourra pas se dérouler correctement."
   ]
  },
  {
   "cell_type": "markdown",
   "id": "2c923e5a",
   "metadata": {},
   "source": [
    "Il y a deux points de vue vis-à-vis de la question du typage.\n",
    "\n",
    "Les gens habitués au *typage statique* se plaignent du typage dynamique en disant qu'on peut écrire des programmes faux et qu'on s'en rend compte trop tard - à l'exécution.\n",
    "\n",
    "À l'inverse les gens habitués au *typage dynamique* font valoir que le typage statique est très partiel, par exemple, en C si on essaie d'écrire dans un pointeur `NULL`, le système d'exploitation ne le permet pas et le programme sort tout aussi brutalement."
   ]
  },
  {
   "cell_type": "markdown",
   "id": "9c7c4920",
   "metadata": {},
   "source": [
    "Bref, selon le point de vue, le typage dynamique est vécu comme un inconvénient (pas assez de bonnes propriétés détectées par le langage) ou comme un avantage (pas besoin de passer du temps à déclarer le type des variables, ni à faire des conversions pour satisfaire le compilateur). \n",
    "\n",
    "Vous remarquerez cependant à l'usage, qu'en matière de vitesse de développement, les inconvénients du typage dynamique sont très largement compensés par ses avantages."
   ]
  },
  {
   "cell_type": "markdown",
   "id": "4c7b3cea",
   "metadata": {},
   "source": [
    "### *Type hints*"
   ]
  },
  {
   "cell_type": "markdown",
   "id": "c740f46c",
   "metadata": {},
   "source": [
    "Signalons enfin que depuis python-3.5, il est **possible** d'ajouter des annotations de type, pour expliciter les suppositions qui sont faites par le programmeur pour le bon fonctionnement du code.\n",
    "\n",
    "Nous aurons là encore l'occasion de détailler ce point dans le cours, signalons simplement que ces annotations sont totalement optionnelles, et que même lorsqu'elles sont présentes elles ne sont pas utilisées à l'exécution par l'interpréteur. L'idée est plutôt de permettre à des outils externes, [comme  par exemple `mypy`](http://www.mypy-lang.org), d'effectuer des contrôles plus poussés concernant la correction du programme."
   ]
  }
 ],
 "metadata": {
  "jupytext": {
   "cell_metadata_filter": "all, -hidden, -heading_collapsed, -run_control, -trusted",
   "notebook_metadata_filter": "all, -jupytext.text_representation.jupytext_version, -jupytext.text_representation.format_version, -language_info.version, -language_info.codemirror_mode.version, -language_info.codemirror_mode, -language_info.file_extension, -language_info.mimetype, -toc",
   "text_representation": {
    "extension": ".md",
    "format_name": "myst"
   }
  },
  "kernelspec": {
   "display_name": "Python 3",
   "language": "python",
   "name": "python3"
  },
  "language_info": {
   "name": "python",
   "nbconvert_exporter": "python",
   "pygments_lexer": "ipython3"
  },
  "notebookname": "type-checking",
  "version": "3.0"
 },
 "nbformat": 4,
 "nbformat_minor": 5
}
