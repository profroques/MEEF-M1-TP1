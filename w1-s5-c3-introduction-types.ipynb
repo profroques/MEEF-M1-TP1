{
 "cells": [
  {
   "cell_type": "markdown",
   "id": "1162ea62",
   "metadata": {},
   "source": [
    "<div class=\"licence\">\n",
    "<span>Licence CC BY-NC-ND</span>\n",
    "<span>Thierry Parmentelat &amp; Arnaud Legout</span>\n",
    "<span><img src=\"media/both-logos-small-alpha.png\" /></span>\n",
    "</div>"
   ]
  },
  {
   "cell_type": "markdown",
   "id": "6db2f7b5",
   "metadata": {},
   "source": [
    "# Un peu de calcul sur les types"
   ]
  },
  {
   "cell_type": "markdown",
   "id": "9f24ce26",
   "metadata": {},
   "source": [
    "## Complément - niveau basique"
   ]
  },
  {
   "cell_type": "markdown",
   "id": "ac1a0b1c",
   "metadata": {},
   "source": [
    "### La fonction `type`"
   ]
  },
  {
   "cell_type": "markdown",
   "id": "00770729",
   "metadata": {},
   "source": [
    "Nous avons vu dans la vidéo que chaque objet possède un type. On peut très simplement accéder au type d'un objet en appelant une fonction *built-in*, c'est-à-dire prédéfinie dans Python, qui s'appelle, eh bien oui, `type`."
   ]
  },
  {
   "cell_type": "markdown",
   "id": "786f9365",
   "metadata": {},
   "source": [
    "On l'utilise tout simplement comme ceci :"
   ]
  },
  {
   "cell_type": "code",
   "execution_count": null,
   "id": "669dcd81",
   "metadata": {
    "cell_style": "split"
   },
   "outputs": [],
   "source": [
    "type(1)"
   ]
  },
  {
   "cell_type": "code",
   "execution_count": null,
   "id": "077f2386",
   "metadata": {
    "cell_style": "split"
   },
   "outputs": [],
   "source": [
    "type('spam')"
   ]
  },
  {
   "cell_type": "markdown",
   "id": "b723723a",
   "metadata": {},
   "source": [
    "Cette fonction est assez peu utilisée par les programmeurs expérimentés, mais va nous être utile à bien comprendre le langage, notamment pour manipuler les valeurs numériques."
   ]
  },
  {
   "cell_type": "markdown",
   "id": "e1739f5c",
   "metadata": {},
   "source": [
    "### Types, variables et objets"
   ]
  },
  {
   "cell_type": "markdown",
   "id": "bdbc9008",
   "metadata": {},
   "source": [
    "On a vu également que le type est attaché **à l'objet** et non à la variable."
   ]
  },
  {
   "cell_type": "code",
   "execution_count": null,
   "id": "16f0b3a6",
   "metadata": {
    "cell_style": "split"
   },
   "outputs": [],
   "source": [
    "x = 1\n",
    "type(x)"
   ]
  },
  {
   "cell_type": "code",
   "execution_count": null,
   "id": "1f620ef5",
   "metadata": {
    "cell_style": "split"
   },
   "outputs": [],
   "source": [
    "# la variable x peut référencer un objet de n'importe quel type\n",
    "\n",
    "x = [1, 2, 3]\n",
    "type(x)"
   ]
  },
  {
   "cell_type": "markdown",
   "id": "3d8592ce",
   "metadata": {},
   "source": [
    "## Complément - niveau avancé"
   ]
  },
  {
   "cell_type": "markdown",
   "id": "ff7e5d8e",
   "metadata": {},
   "source": [
    "### La fonction `isinstance`"
   ]
  },
  {
   "cell_type": "markdown",
   "id": "37897d18",
   "metadata": {},
   "source": [
    "Une autre fonction prédéfinie, voisine de `type` mais plus utile dans la pratique, est la fonction `isinstance` qui permet de savoir si un objet est d'un type donné. Par exemple :"
   ]
  },
  {
   "cell_type": "code",
   "execution_count": null,
   "id": "0c2d21f7",
   "metadata": {},
   "outputs": [],
   "source": [
    "isinstance(23, int)"
   ]
  },
  {
   "cell_type": "markdown",
   "id": "3ce5e334",
   "metadata": {},
   "source": [
    "À la vue de ce seul exemple, on pourrait penser que `isinstance` est presque identique à `type`&nbsp;; en réalité elle est un peu plus élaborée, notamment pour la programmation objet et l'héritage, nous aurons l'occasion d'y revenir."
   ]
  },
  {
   "cell_type": "markdown",
   "id": "af81a5eb",
   "metadata": {},
   "source": [
    "On remarque ici en passant que la variable `int` est connue de Python alors que nous ne l'avons pas définie. Il s'agit d'une variable prédéfinie, qui désigne le type des entiers, que nous étudierons très bientôt."
   ]
  },
  {
   "cell_type": "markdown",
   "id": "0f6fc5a9",
   "metadata": {},
   "source": [
    "Pour conclure sur `isinstance`, cette fonction est utile en pratique précisément parce que Python est à typage dynamique. Aussi il est souvent utile de s'assurer qu'une variable passée à une fonction est du (ou des) type(s) attendu(s), puisque contrairement à un langage typé statiquement comme C++, on n'a aucune garantie de ce genre à l'exécution. À nouveau, nous aurons l'occasion de revenir sur ce point."
   ]
  }
 ],
 "metadata": {
  "jupytext": {
   "cell_metadata_filter": "all, -hidden, -heading_collapsed, -run_control, -trusted",
   "notebook_metadata_filter": "all, -jupytext.text_representation.jupytext_version, -jupytext.text_representation.format_version, -language_info.version, -language_info.codemirror_mode.version, -language_info.codemirror_mode, -language_info.file_extension, -language_info.mimetype, -toc",
   "text_representation": {
    "extension": ".md",
    "format_name": "myst"
   }
  },
  "kernelspec": {
   "display_name": "Python 3",
   "language": "python",
   "name": "python3"
  },
  "language_info": {
   "name": "python",
   "nbconvert_exporter": "python",
   "pygments_lexer": "ipython3"
  },
  "notebookname": "Intro. sur les types",
  "version": "3.0"
 },
 "nbformat": 4,
 "nbformat_minor": 5
}
