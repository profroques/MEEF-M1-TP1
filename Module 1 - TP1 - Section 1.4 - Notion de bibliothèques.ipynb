{
 "cells": [
  {
   "cell_type": "markdown",
   "id": "4fcd6511",
   "metadata": {},
   "source": [
    "<div class=\"licence\">\n",
    "<b><span>Licence CC BY-NC-ND </span>\n",
    "    <span>Sarah Roques - Académie de Lyon</span></b>\n",
    "<br><span><img src=\"logo Licence CC BY-NC-ND.png\" alt=\"drawing\" width=\"100\"style=\"float:left\"/></span>\n",
    "</div>"
   ]
  },
  {
   "cell_type": "markdown",
   "id": "b5068ec8",
   "metadata": {},
   "source": [
    "<h3>NUMÉRIQUE - Module 1 - TP1 - Section 1.4</h3>"
   ]
  },
  {
   "cell_type": "markdown",
   "id": "1c5032a8",
   "metadata": {},
   "source": [
    "<center><h1> <span style=\"color:#337AB7\">NOTION DE BIBLIOTHÈQUES</span> </h1></center>"
   ]
  },
  {
   "cell_type": "markdown",
   "id": "44e4ee1c",
   "metadata": {},
   "source": [
    "<div class=\"panel panel-primary\">\n",
    "<div class=\"panel-heading\"><h2>Préambule :</h2></div>\n",
    "<div class=\"panel-body\">\n",
    "\n",
    "Python permet un grand nombre de possibilités lors de la rédaction et de l'exécution de programmes : ceci est rendu possible par l'exploitation de fonctions communes pour les utilisatrices et pour les utilisateurs.\n",
    "<br>Lors de l'installation de Python, des bibliothèques \"standards\" sont également installées \"en même temps\". Parfois, il est nécessaire d'installer sur l'ordinateur d'autres bibliohthèques <i>alternatives</i> si les standards ne suffisent pas à un projet.\n",
    "<br>Une fois installée, une bibliothèque (librairy en anglais) peut être **importée** dans un programme pour pouvoir exploiter leurs fonctions.\n",
    "</div>\n",
    "</div>"
   ]
  },
  {
   "cell_type": "markdown",
   "id": "f20ff8f1",
   "metadata": {},
   "source": [
    "<div class=\"panel panel-default\">\n",
    "    <div class=\"panel-heading\"><h2>EST-CE VRAIMENT UTILE ?</h2></div>\n",
    "    <div class=\"panel-body\">\n",
    "\n",
    "Dans cette partie, je vous propose de comprendre pourquoi parfois, nous devrons importer des bibliothèques.\n",
    "<br> Travaillons autour de l'exemple suivant : la bibliothèque <i>math</i> est une bibliothèque dite \"standard\" car elle est installée sur l'ordinateur lors de l'installation de Python.\n",
    "</div>\n",
    "</div>"
   ]
  },
  {
   "cell_type": "markdown",
   "id": "4cba1da4",
   "metadata": {},
   "source": [
    "Exécuter le bloc suivant pour calculer le sinus d'un angle de 0,5 radian."
   ]
  },
  {
   "cell_type": "code",
   "execution_count": null,
   "id": "49d48adf",
   "metadata": {
    "scrolled": true
   },
   "outputs": [],
   "source": [
    "sin(0.5)"
   ]
  },
  {
   "cell_type": "markdown",
   "id": "4858e880",
   "metadata": {},
   "source": [
    "Le message d'erreur `NameError: name 'sin' is not defined` indique que l'expression `sin` n'est pas définie. À partir de là, il y a deux possibilités pour régler le problème :\n",
    "1. On crée soi-même son propre script pour définir une fonction sinus qui calcule le sinus d'un nombre puis on importe cette fonction dans ce programme pour réaliser le calcul demandé (bon courage !!) ;\n",
    "2. On se souvient que Guido van Rossum et la communauté \"Python\" ont déjà géré le problème : un tel script a déjà été créé et mis à disposition. Ou plus précisément, un ensemble de script rendant possible un grand ensemble de fonctions mathématiques classiques (dont celle du sinus) a déjà été créé et mis à disposition dans un seul fichier appelé \"bibliothèque math\".\n",
    "<br>\n",
    "<br>\n",
    "Nous faisons le choix de la deuxième option dans la suite de ce cours."
   ]
  },
  {
   "cell_type": "markdown",
   "id": "79a37fb2",
   "metadata": {},
   "source": [
    "<div class=\"panel panel-default\">\n",
    "    <div class=\"panel-heading\"><h2>IMPORTER UNE BIBLIOTHÈQUE : PREMIÈRE FAÇON</h2></div>\n",
    "    <div class=\"panel-body\">\n",
    "\n",
    "Dans cette partie, je vous propose d'importer le plus simpmement possible la bibliothèque <i>math</i>.\n",
    "</div>"
   ]
  },
  {
   "cell_type": "markdown",
   "id": "bd66a218",
   "metadata": {},
   "source": [
    "Exécuter le bloc suivant :"
   ]
  },
  {
   "cell_type": "code",
   "execution_count": null,
   "id": "a6de9d52",
   "metadata": {
    "scrolled": true
   },
   "outputs": [],
   "source": [
    "import math"
   ]
  },
  {
   "cell_type": "markdown",
   "id": "8b9211c1",
   "metadata": {},
   "source": [
    "On peut croire que rien ne se passe ... erreur ! <b style = \"color :red\">Toute</b> la bibliothèque <i>math</i> avec <b>toutes ses fonctions</b>, tous ces modules, etc ont été importés dans ce programme et sont prêts à être utilisés. Vérifions le en exécutant le bloc suivant."
   ]
  },
  {
   "cell_type": "code",
   "execution_count": null,
   "id": "d16fee8b",
   "metadata": {},
   "outputs": [],
   "source": [
    "math.sin(0.5)"
   ]
  },
  {
   "cell_type": "markdown",
   "id": "670ce7af",
   "metadata": {},
   "source": [
    "Mais comment connaître le contenu d'une bibliothèque ? Grâce à l'instruction `dir()`. Exécuter le bloc suivant."
   ]
  },
  {
   "cell_type": "code",
   "execution_count": null,
   "id": "db0381bc",
   "metadata": {},
   "outputs": [],
   "source": [
    "dir(math)"
   ]
  },
  {
   "cell_type": "markdown",
   "id": "16fe399b",
   "metadata": {},
   "source": [
    "La fonction `degrees` peut être intéressante. Mais comment connaître sa synthaxe pour l'utiliser ? Sur cette interface Jupyter, il est possible d'avoir accès à de l'aide sur les fonctions grâce à la saisie d'un `?` suivi du nom de la fonction. Sur des interfaces comme IDLE, il est nécessaire de saisir une expression de la forme `help(math.degrees)` . Executer le code suivant."
   ]
  },
  {
   "cell_type": "code",
   "execution_count": null,
   "id": "5a78a2c2",
   "metadata": {},
   "outputs": [],
   "source": [
    "?math.degrees"
   ]
  },
  {
   "cell_type": "markdown",
   "id": "7cc515ee",
   "metadata": {},
   "source": [
    "\n",
    "<div class=\"pull-right\">  \n",
    "    <br>\n",
    "    <span><img style = \"float:left\" src=\"diapo illustrations\\aide math degrees.png\" alt=\"drawing\" width=\"600\"style=\"float:center\"/></span>\n",
    "    <br>\n",
    "</div>\n",
    "<br>\n",
    "En bas de cette page, une fenêtre de description de l'utilisation de la fonction `degrees` est proposée. La voici ici ci-contre. La fonction `degrees`convertit donc une variable x (on imagine initialement en radians) en degrés. Testons la fonction."
   ]
  },
  {
   "cell_type": "code",
   "execution_count": null,
   "id": "ac6a46ec",
   "metadata": {
    "scrolled": true
   },
   "outputs": [],
   "source": [
    "math.degrees(0.5)"
   ]
  },
  {
   "cell_type": "markdown",
   "id": "dbcca2f8",
   "metadata": {},
   "source": [
    "Dans l'instruction `math.sin(x)` , la variable x est en radian. On peut consultant l'aide sur la fonction `sin` ."
   ]
  },
  {
   "cell_type": "code",
   "execution_count": null,
   "id": "8cbf5fc0",
   "metadata": {
    "scrolled": true
   },
   "outputs": [],
   "source": [
    "?math.sin"
   ]
  },
  {
   "cell_type": "markdown",
   "id": "73505d62",
   "metadata": {},
   "source": [
    "Imaginons que l'on ait un angle de 28.64788975654116 degrés et que l'on souhaite calculer son sinus. Il est alors possible d'excuter le code suivant :"
   ]
  },
  {
   "cell_type": "code",
   "execution_count": null,
   "id": "c6d5e20b",
   "metadata": {
    "scrolled": true
   },
   "outputs": [],
   "source": [
    "math.sin(math.radians(28.64788975654116))"
   ]
  },
  {
   "cell_type": "markdown",
   "id": "ec85bc01",
   "metadata": {},
   "source": [
    "L'instruction précédente a d'abord converti 28.64788975654116 en radians (ce qui fait 0,5 radian) puis a calculé son sinus. On peut bien entendu comparer au résultat du calcul suivant :"
   ]
  },
  {
   "cell_type": "code",
   "execution_count": null,
   "id": "0df92f1a",
   "metadata": {},
   "outputs": [],
   "source": [
    "math.sin(0.5)"
   ]
  },
  {
   "cell_type": "markdown",
   "id": "96638d61",
   "metadata": {},
   "source": [
    "<div class=\"panel panel-default\">\n",
    "    <div class=\"panel-heading\"><h2>IMPORTER UNE BIBLIOTHÈQUE : DEUXIÈME FAÇON</h2></div>\n",
    "    <div class=\"panel-body\">\n",
    "\n",
    "Dans cette partie, nous allons découvrir une deuxième façon de rédiger pour importer une bibliothèque. Nous allons rester sur l'exemple de la bibliothèque <i>math</i>.\n",
    "</div>"
   ]
  },
  {
   "cell_type": "markdown",
   "id": "2e7b5678",
   "metadata": {},
   "source": [
    "<div class=\"pull-right\">  \n",
    "    <br>\n",
    "    <span><img src=\"diapo illustrations\\jupyter-effacer les sorties.png\" alt=\"drawing\" width=\"250\"style=\"float:center\"/></span>\n",
    "    <br>\n",
    "</div>\n",
    "<br>\n",
    "<p><b>ATTENTION</b>\n",
    "\n",
    "Le petit \"hic\" est que nous avons déjà importé la bibliothèque Python. Il faudrait donc qu'on réinitialise ce programme pour s'affranchir des exécutions de scripts précédents.\n",
    "<br> Pour cela, aller dans `Noyau>Démarrer & effacer les sorties` puis \"Relancer et effacer toutes les sorties\". Voir ci-contre.\n",
    "<br><br>Revener ensuite dans cette partie de la page. \n",
    "    \n",
    "</p>"
   ]
  },
  {
   "cell_type": "markdown",
   "id": "b8b39184",
   "metadata": {},
   "source": [
    "Si l'effacement a bien été réalisé, logiquement, l'exécution du script suivant donne une erreur pour les raisons que vous savez :"
   ]
  },
  {
   "cell_type": "code",
   "execution_count": null,
   "id": "14a6d1fd",
   "metadata": {
    "scrolled": true
   },
   "outputs": [],
   "source": [
    "math.sin(0.5)"
   ]
  },
  {
   "cell_type": "markdown",
   "id": "64b40075",
   "metadata": {},
   "source": [
    "Voici une deuxième façon d'importer la bibliothèque <i>math</i> : elle consiste à lui attribuer un <i>alias</i>, ici **m**, pour simplifier les rédactions. Exécuter le bloc suivant :"
   ]
  },
  {
   "cell_type": "code",
   "execution_count": null,
   "id": "c3123a22",
   "metadata": {},
   "outputs": [],
   "source": [
    "import math as m\n",
    "m.sin(0.5)"
   ]
  },
  {
   "cell_type": "markdown",
   "id": "bb4991d1",
   "metadata": {},
   "source": [
    "Saisir dans le bloc suivant, des lignes de codes permettant :\n",
    "- d'afficher la valeur de pi\n",
    "- d'afficher la racine carré de 25\n",
    "- d'afficher l'arcsinus de 0.479425538604203 (résultat en radians)\n",
    "- d'afficher l'arcsinus de 0.479425538604203 (résultat directement en degrés)\n",
    "<br>\n",
    "à partir des fonctions de la bibliothèques <i>math</i> et en utilisant pour chaque instruction la fonction `print`"
   ]
  },
  {
   "cell_type": "code",
   "execution_count": null,
   "id": "61f4a9ea",
   "metadata": {},
   "outputs": [],
   "source": [
    "#Saisir à partir de la ligne suivante le script répondant aux consignes précédentes\n"
   ]
  },
  {
   "cell_type": "markdown",
   "id": "46609f23",
   "metadata": {},
   "source": [
    "<details>\n",
    "<summary>  <b> > Cliquer UNE FOIS sur le mot SOLUTION pour faire apparaître une solution</b> </summary>\n",
    "\n",
    "\n",
    "```print(m.pi)\n",
    "print(m.sqrt(25))\n",
    "print(m.asin(0.479425538604203))\n",
    "print(m.degrees(m.asin(0.479425538604203)))\n",
    "    ```\n",
    "<br>\n",
    "\n",
    "</details>"
   ]
  },
  {
   "cell_type": "markdown",
   "id": "23c96904",
   "metadata": {},
   "source": [
    "<div class=\"panel panel-default\">\n",
    "    <div class=\"panel-heading\"><h2>IMPORTER UNE BIBLIOTHÈQUE : TROISIÈME FAÇON</h2></div>\n",
    "    <div class=\"panel-body\">\n",
    "\n",
    "Dans cette partie, nous allons découvrir une troisième façon de rédiger pour importer une bibliothèque. Cette fois, au lieu d'importer toute la bibliothèque <i>math</i>, nous allons importer toutes ses fonctions. Cela va alléger les notations.\n",
    "</div>"
   ]
  },
  {
   "cell_type": "markdown",
   "id": "120b1655",
   "metadata": {},
   "source": [
    "<div class=\"pull-right\">  \n",
    "    <br>\n",
    "    <span><img src=\"diapo illustrations\\jupyter-effacer les sorties.png\" alt=\"drawing\" width=\"250\"style=\"float:center\"/></span>\n",
    "    <br>\n",
    "</div>\n",
    "<br>\n",
    "<p><b>ATTENTION</b>\n",
    "\n",
    "Le petit \"hic\" est que nous avons déjà importé la bibliothèque Python. Il faudrait donc qu'on réinitialise ce programme pour s'affranchir des exécutions de scripts précédents.\n",
    "<br> Pour cela, aller dans `Noyau>Démarrer & effacer les sorties` puis \"Relancer et effacer toutes les sorties\". Voir ci-contre.\n",
    "<br><br>Revener ensuite dans cette partie de la page. \n",
    "    \n",
    "</p>"
   ]
  },
  {
   "cell_type": "markdown",
   "id": "0b5c6c1c",
   "metadata": {},
   "source": [
    "Si l'effacement a bien été réalisé, logiquement, l'exécution du script suivant donne une erreur pour les raisons que vous savez :"
   ]
  },
  {
   "cell_type": "code",
   "execution_count": null,
   "id": "3ac1a87b",
   "metadata": {
    "scrolled": false
   },
   "outputs": [],
   "source": [
    "math.sin(0.5)"
   ]
  },
  {
   "cell_type": "markdown",
   "id": "496120f4",
   "metadata": {},
   "source": [
    "Importons toutes (c'est ce que veut dire le `*` à côté de `import` les fonctions de la bibliothèque `math`. Puis, faisons un calcul de sinus."
   ]
  },
  {
   "cell_type": "code",
   "execution_count": null,
   "id": "1bc5d68c",
   "metadata": {},
   "outputs": [],
   "source": [
    "from math import *\n",
    "sin(0.5)"
   ]
  },
  {
   "cell_type": "markdown",
   "id": "735e4b46",
   "metadata": {},
   "source": [
    "Avez-vous vu la différence pour l'instruction sinus lorsqu'on importe toute la bibliothèque via `import` par rapport à l'import de \"seulement\" toutes les fonctions de la bibliothèques via l'instruction `from` ?"
   ]
  },
  {
   "cell_type": "markdown",
   "id": "4339cf4e",
   "metadata": {},
   "source": [
    "Saisir dans le bloc suivant, des lignes de codes permettant :\n",
    "- d'afficher la valeur de pi\n",
    "- d'afficher la racine carré de 25\n",
    "- d'afficher l'arcsinus de 0.479425538604203 (résultat en radians)\n",
    "- d'afficher l'arcsinus de 0.479425538604203 (résultat directement en degrés)\n",
    "<br>à partir des fonctions de la bibliothèques <i>math</i> (importées via l'instruction `from` ) et en utilisant pour chaque instruction la fonction `print`"
   ]
  },
  {
   "cell_type": "code",
   "execution_count": null,
   "id": "8cb42917",
   "metadata": {},
   "outputs": [],
   "source": [
    "#Saisir à partir de la ligne suivante le script répondant aux consignes précédentes\n"
   ]
  },
  {
   "cell_type": "markdown",
   "id": "904050d4",
   "metadata": {},
   "source": [
    "<details>\n",
    "<summary>  <b> > Cliquer UNE FOIS sur le mot SOLUTION pour faire apparaître une solution</b> </summary>\n",
    "\n",
    "\n",
    "```\n",
    "print(pi)\n",
    "print(sqrt(25))\n",
    "print(asin(0.479425538604203))\n",
    "print(degrees(asin(0.479425538604203)))\n",
    "    ```\n",
    "<br>\n",
    "\n",
    "</details>"
   ]
  },
  {
   "cell_type": "markdown",
   "id": "ea78f181",
   "metadata": {},
   "source": [
    "<div class=\"panel panel-default\">\n",
    "    <div class=\"panel-heading\"><h2>IMPORTER UNE BIBLIOTHÈQUE : QUATRIÈME FAÇON</h2></div>\n",
    "    <div class=\"panel-body\">\n",
    "\n",
    "Dans cette partie, nous allons découvrir une quatrième façon de rédiger pour importer une bibliothèque. Cette fois, au lieu d'importer toutes les fonctions de la bibliothèque <i>math</i>, nous allons importer seulement la ou les fonctions utiles.\n",
    "</div>"
   ]
  },
  {
   "cell_type": "markdown",
   "id": "3b202f78",
   "metadata": {},
   "source": [
    "<div class=\"pull-right\">  \n",
    "    <br>\n",
    "    <span><img src=\"diapo illustrations\\jupyter-effacer les sorties.png\" alt=\"drawing\" width=\"250\"style=\"float:center\"/></span>\n",
    "    <br>\n",
    "</div>\n",
    "<br>\n",
    "<p><b>ATTENTION</b>\n",
    "\n",
    "Le petit \"hic\" est que nous avons déjà importé la bibliothèque Python. Il faudrait donc qu'on réinitialise ce programme pour s'affranchir des exécutions de scripts précédents.\n",
    "<br> Pour cela, aller dans `Noyau>Démarrer & effacer les sorties` puis \"Relancer et effacer toutes les sorties\". Voir ci-contre.\n",
    "<br><br>Revener ensuite dans cette partie de la page. \n",
    "    \n",
    "</p>"
   ]
  },
  {
   "cell_type": "markdown",
   "id": "21be689a",
   "metadata": {},
   "source": [
    "Si l'effacement a bien été réalisé, logiquement, l'exécution du script suivant donne une erreur pour les raisons que vous savez :"
   ]
  },
  {
   "cell_type": "code",
   "execution_count": null,
   "id": "304e5a4d",
   "metadata": {
    "scrolled": false
   },
   "outputs": [],
   "source": [
    "math.sin(0.5)"
   ]
  },
  {
   "cell_type": "markdown",
   "id": "828d4b0a",
   "metadata": {},
   "source": [
    "Cette fois, n'importons que la fonction sinus de la bibliothèque `math`"
   ]
  },
  {
   "cell_type": "code",
   "execution_count": null,
   "id": "68648389",
   "metadata": {},
   "outputs": [],
   "source": [
    "from math import sin\n",
    "sin(0.5)"
   ]
  },
  {
   "cell_type": "markdown",
   "id": "cfbd8a57",
   "metadata": {},
   "source": [
    "Si l'on souhaite importer plusieurs fonctions d'une même bibliothèque, il suffit de séparer leur nom par des virgules lors de l'import."
   ]
  },
  {
   "cell_type": "markdown",
   "id": "a8290869",
   "metadata": {},
   "source": [
    "Saisir dans le bloc suivant, des lignes de codes permettant :\n",
    "- d'afficher la valeur de pi\n",
    "- d'afficher la racine carré de 25\n",
    "- d'afficher l'arcsinus de 0.479425538604203 (résultat en radians)\n",
    "- d'afficher l'arcsinus de 0.479425538604203 (résultat directement en degrés)\n",
    "à partir des seules fonctions UTILES de la bibliothèques <i>math</i> et en utilisant pour chaque instruction la fonction `print`\n",
    "<br>\n",
    "<b style = \"color : red\">ATTENTION : il est demandé d'importer les fonctions utiles dans ce script et non toutes les fonctions de la librairie <i>math</i></b>"
   ]
  },
  {
   "cell_type": "code",
   "execution_count": null,
   "id": "725b478d",
   "metadata": {},
   "outputs": [],
   "source": [
    "#Saisir à partir de la ligne suivante le script répondant aux consignes précédentes\n"
   ]
  },
  {
   "cell_type": "markdown",
   "id": "334473a5",
   "metadata": {},
   "source": [
    "<details>\n",
    "<summary>  <b> > Cliquer UNE FOIS sur le mot SOLUTION pour faire apparaître une solution</b> </summary>\n",
    "\n",
    "\n",
    "```\n",
    "from math import sin, pi, sqrt, asin,degrees\n",
    "print(pi)\n",
    "print(sqrt(25))\n",
    "print(asin(0.479425538604203))\n",
    "print(degrees(asin(0.479425538604203)))\n",
    "\n",
    "    ```\n",
    "<br>\n",
    "\n",
    "</details>"
   ]
  },
  {
   "cell_type": "markdown",
   "id": "bf324be6",
   "metadata": {},
   "source": [
    "<div class=\"panel panel-default\">\n",
    "    <div class=\"panel-heading\"><h2>EN RÉSUMÉ</h2></div>\n",
    "    <div class=\"panel-body\">\n",
    "\n",
    "En guise de trace de cours pour cette partie, je vous propose ces deux supports qui résument l'ensemble de ce qui a été abordé.\n",
    "</div>"
   ]
  },
  {
   "cell_type": "markdown",
   "id": "7468cf6d",
   "metadata": {},
   "source": [
    "<div class=\"alert alert-warning\">\n",
    "<h2><b>Importer des bibliothèques</b></h2><br>\n",
    "    <span><img src=\"diapo illustrations\\diapo bibliotheque importation.jpeg\" alt=\"drawing\" width=\"800\"style=\"float:center\"/></span>\n",
    "    \n",
    "<br>\n",
    "</div>"
   ]
  },
  {
   "cell_type": "markdown",
   "id": "2902899a",
   "metadata": {},
   "source": [
    "<div class=\"alert alert-warning\">\n",
    "<h2><b>Fonctions utiles au sujet des bibliothèques</b></h2><br>\n",
    "    <span><img src=\"diapo illustrations\\diapo bibliotheque fonctions utiles.jpeg\" alt=\"drawing\" width=\"800\"style=\"float:center\"/></span>\n",
    "    \n",
    "<br>\n",
    "</div>"
   ]
  },
  {
   "cell_type": "code",
   "execution_count": null,
   "id": "3d7e6ac3",
   "metadata": {},
   "outputs": [],
   "source": []
  }
 ],
 "metadata": {
  "jupytext": {
   "cell_metadata_filter": "all, -hidden, -heading_collapsed, -run_control, -trusted",
   "notebook_metadata_filter": "all, -jupytext.text_representation.jupytext_version, -jupytext.text_representation.format_version, -language_info.version, -language_info.codemirror_mode.version, -language_info.codemirror_mode, -language_info.file_extension, -language_info.mimetype, -toc",
   "text_representation": {
    "extension": ".md",
    "format_name": "myst"
   }
  },
  "kernelspec": {
   "display_name": "Python 3",
   "language": "python",
   "name": "python3"
  },
  "language_info": {
   "codemirror_mode": {
    "name": "ipython",
    "version": 3
   },
   "file_extension": ".py",
   "mimetype": "text/x-python",
   "name": "python",
   "nbconvert_exporter": "python",
   "pygments_lexer": "ipython3",
   "version": "3.8.8"
  },
  "notebookname": "Noms de variables",
  "version": "3.0"
 },
 "nbformat": 4,
 "nbformat_minor": 5
}
