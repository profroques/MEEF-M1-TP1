{
 "cells": [
  {
   "cell_type": "markdown",
   "id": "4fcd6511",
   "metadata": {},
   "source": [
    "<div class=\"licence\">\n",
    "<b><span>Licence CC BY-NC-ND </span>\n",
    "    <span>Sarah Roques - Académie de Lyon</span></b>\n",
    "<br><span><img src=\"logo Licence CC BY-NC-ND.png\" alt=\"drawing\" width=\"100\"style=\"float:left\"/></span>\n",
    "</div>"
   ]
  },
  {
   "cell_type": "markdown",
   "id": "b5068ec8",
   "metadata": {},
   "source": [
    "<h3>NUMÉRIQUE - Module 1 - TP1 - Section 1.3</h3>"
   ]
  },
  {
   "cell_type": "markdown",
   "id": "1c5032a8",
   "metadata": {},
   "source": [
    "<center><h1> <span style=\"color:#337AB7\">NOTION DE BOUCLES</span> </h1></center>"
   ]
  },
  {
   "cell_type": "markdown",
   "id": "44e4ee1c",
   "metadata": {},
   "source": [
    "<div class=\"panel panel-primary\">\n",
    "<div class=\"panel-heading\"><h2>Préambule :</h2></div>\n",
    "<div class=\"panel-body\">\n",
    "\n",
    "Les boucles forment une des structures les plus utilisées en programmation.\n",
    "<br>Dans cette partie, nous allons travailler autour des deux types de boucles : `for` et `while`.\n",
    "</div>\n",
    "</div>"
   ]
  },
  {
   "cell_type": "markdown",
   "id": "9f427475",
   "metadata": {},
   "source": [
    "<div class=\"alert alert-warning\">\n",
    "<h2><b>Structure de la boucle FOR</b></h2><br>\n",
    "    <p> On parle de <i> boucle bornée</i></p><br>\n",
    "    <span><img src=\"diapo illustrations\\diapo boucle for.jpeg\" alt=\"drawing\" width=\"800\"style=\"float:center\"/></span>\n",
    "<br>\n",
    "</div>"
   ]
  },
  {
   "cell_type": "markdown",
   "id": "57f22f1f",
   "metadata": {},
   "source": [
    "<div class=\"alert alert-warning\">\n",
    "<h2><b>Structure de la boucle WHILE</b></h2><br>\n",
    "    <p> On parle de <i> boucle non bornée</i></p><br>\n",
    "    <span><img src=\"diapo illustrations\\diapo boucle while.jpeg\" alt=\"drawing\" width=\"800\"style=\"float:center\"/></span>\n",
    "<br>\n",
    "</div>"
   ]
  },
  {
   "cell_type": "markdown",
   "id": "20411a37",
   "metadata": {},
   "source": [
    "<div class=\"alert alert-warning\">\n",
    "<h2><b>Une commande utile dans les boucles : RANGE</b></h2><br>\n",
    "    <span><img src=\"diapo illustrations\\diapo commande range.jpeg\" alt=\"drawing\" width=\"800\"style=\"float:center\"/></span>\n",
    "<br>\n",
    "</div>"
   ]
  },
  {
   "cell_type": "markdown",
   "id": "7468cf6d",
   "metadata": {},
   "source": [
    "<div class=\"alert alert-warning\">\n",
    "<h2><b>Des raccourcis pour des calculs basiques</b></h2><br>\n",
    "    <span><img src=\"diapo illustrations\\diapo raccourcis opérations basiques.jpeg\" alt=\"drawing\" width=\"800\"style=\"float:center\"/></span>\n",
    "<br>\n",
    "</div>"
   ]
  },
  {
   "cell_type": "markdown",
   "id": "f20ff8f1",
   "metadata": {},
   "source": [
    "<div class=\"panel panel-default\">\n",
    "    <div class=\"panel-heading\"><h2>COMPRÉHENSION DE CODE</h2></div>\n",
    "    <div class=\"panel-body\">\n",
    "\n",
    "Dans cette partie, je vous propose le script suivant : \n",
    "<br><br>\n",
    "```\n",
    "n=5\n",
    "f=1\n",
    "while n>1 :\n",
    "        f=f*n\n",
    "        n-=1\n",
    "print(f)\n",
    "\n",
    "```\n",
    "<br><br>\n",
    "        **Questions :** \n",
    "1. Que mettre comme commentaire pour chaque ligne du script précédent ?\n",
    "2. Quel sera la résultat de l'exécution de ce script ?\n",
    "<br>\n",
    "</div>\n",
    "</div>"
   ]
  },
  {
   "cell_type": "markdown",
   "id": "d61f81e2",
   "metadata": {},
   "source": [
    "Pour vérifier la dernière réponse proposée, exécuter le bloc suivant :"
   ]
  },
  {
   "cell_type": "code",
   "execution_count": null,
   "id": "ac6a46ec",
   "metadata": {},
   "outputs": [],
   "source": [
    "n=5\n",
    "f=1\n",
    "while n>1 :\n",
    "        f=f*n\n",
    "        n-=1\n",
    "print(f)"
   ]
  },
  {
   "cell_type": "markdown",
   "id": "15d43c4c",
   "metadata": {},
   "source": [
    "<details>\n",
    "    <summary><b>> Cliquer ici UNE FOIS pour voir un précieux commentaire</b></summary>\n",
    "    \n",
    "    Le script précédent permet de réaliser un calcul factoriel : 5!= 5x4x3x2x1 = 120.\n",
    "</details>"
   ]
  },
  {
   "cell_type": "markdown",
   "id": "2e7b5678",
   "metadata": {},
   "source": [
    "<p><b>Question</b>\n",
    "\n",
    "On souhaite utiliser une expression type \"raccourci\" à la place de `f = f*n`.<br>Dans le script suivant, remplacer l'expression `--- SAISIR UNE LIGNE DE SCRIPT---` par une expression différente de `f=f*n` et permettant le même résultat que précédemment.\n",
    "    \n",
    "</p>"
   ]
  },
  {
   "cell_type": "code",
   "execution_count": null,
   "id": "a0e480a7",
   "metadata": {},
   "outputs": [],
   "source": [
    "n=5\n",
    "f=1\n",
    "while n>1 :\n",
    "        --- SAISIR UNE LIGNE DE SCRIPT---\n",
    "        n-=1\n",
    "print(f)\n"
   ]
  },
  {
   "cell_type": "markdown",
   "id": "46609f23",
   "metadata": {},
   "source": [
    "<details>\n",
    "<summary>  <b> > Cliquer UNE FOIS sur le mot SOLUTION pour faire apparaître une solution</b> </summary>\n",
    "\n",
    "<br>\n",
    "\n",
    "```\n",
    "n=5\n",
    "f=1\n",
    "while n>1 :\n",
    "        f*=n\n",
    "        n-=1\n",
    "print(f)\n",
    "```\n",
    "<br>\n",
    "\n",
    "</details>"
   ]
  },
  {
   "cell_type": "markdown",
   "id": "750ebec6",
   "metadata": {},
   "source": [
    "<div class=\"panel panel-default\">\n",
    "    <div class=\"panel-heading\"><h2>TROUVER DES EXPRESSIONS SIMILAIRES</h2></div>\n",
    "    <div class=\"panel-body\">\n",
    "    \n",
    "On considère une liste L d'entiers. On souhaite afficher chaque élément de cette liste avec deux rédactions différentes.\n",
    "<br>\n",
    "    </div>\n",
    "</div>"
   ]
  },
  {
   "cell_type": "markdown",
   "id": "18cf3fb0",
   "metadata": {},
   "source": [
    "**1ère rédaction de script :**\n",
    "<br> Remplacer l'expression ----À COMPLÉTER--- en utilisant notamment la commande `range` et l'instruction `len()` .  On rappelle que l'instruction `len(L)` renvoie la longueur de la liste L autrement dit, renvoie le nombre d'éléments dans la liste L."
   ]
  },
  {
   "cell_type": "code",
   "execution_count": null,
   "id": "5e36dc10",
   "metadata": {
    "scrolled": false
   },
   "outputs": [],
   "source": [
    "L = [5.4,6.3,8.9,10.99]\n",
    "for i in ----À COMPLÉTER---:\n",
    "    print(L[i])"
   ]
  },
  {
   "cell_type": "markdown",
   "id": "804b501e",
   "metadata": {},
   "source": [
    "<details>\n",
    "<summary>  <b> > Cliquer UNE FOIS sur le mot SOLUTION pour faire apparaître une solution</b> </summary>\n",
    "\n",
    "<br>\n",
    "\n",
    "```\n",
    "L = [5.4,6.3,8.9,10.99]\n",
    "for i in range(len(L)):\n",
    "    print(L[i])\n",
    "```\n",
    "</details>"
   ]
  },
  {
   "cell_type": "markdown",
   "id": "f832c2be",
   "metadata": {},
   "source": [
    "**2ème rédaction de script :**\n",
    "<br> Remplacer l'expression ----À COMPLÉTER--- en utilisant une expression plus compacte que la précédente et donnant le même résultat."
   ]
  },
  {
   "cell_type": "code",
   "execution_count": null,
   "id": "d50c7712",
   "metadata": {
    "scrolled": false
   },
   "outputs": [],
   "source": [
    "L = [5.4,6.3,8.9,10.99]\n",
    "for i in ----À COMPLÉTER--- :\n",
    "    print(i)"
   ]
  },
  {
   "cell_type": "markdown",
   "id": "b02ce636",
   "metadata": {},
   "source": [
    "<details>\n",
    "<summary>  <b> > Cliquer UNE FOIS sur le mot SOLUTION pour faire apparaître une solution</b> </summary>\n",
    "\n",
    "<br>\n",
    "\n",
    "```\n",
    "L = [5.4,6.3,8.9,10.99]\n",
    "for i in L:\n",
    "    print(i)\n",
    "```\n",
    "</details>"
   ]
  },
  {
   "cell_type": "markdown",
   "id": "a913c56a",
   "metadata": {},
   "source": [
    "<b>Avez-vous remarqué la différene de script pour le print ?</b> \n",
    "<br>\n",
    "- Dans la 1ère rédaction, quand <i>i</i> parcourt l'objet `range(len(L))`, on réalise un `print (L[i])` car `i` est un <i>entier</i> et donc on affiche l'élément L[i] d'indice i.\n",
    "<br>\n",
    "- Dans la 2ème rédaction, quand <i>i</i> parcourt l'objet `list L`, on réalise un `print (i)` car `i` correspond directement à l'élément (ici un float) de la liste L.\n",
    "<br>\n",
    "<br>\n",
    "- Pour vous en convaicre, je vous propose d'exécuter le bloc suivant qui reprend les deux rédactions précédentes mais augmentées de l'affichage du `type` de <i>i</i> pour chaque type de script. <b>Prenez soin de lire le bloc avant de l'exécuter.</b>\n"
   ]
  },
  {
   "cell_type": "code",
   "execution_count": null,
   "id": "7c2de520",
   "metadata": {},
   "outputs": [],
   "source": [
    "L = [5.4,6.3,8.9,10.99]\n",
    "print(\"Exécution du script selon la 1ère rédaction\")\n",
    "for i in range (len(L)):\n",
    "    print(\"le type de i est : \", type(i))\n",
    "    print(\"et sa valeur est : \",L[i])\n",
    "\n",
    "print()\n",
    "print()\n",
    "print(\"Exécution du script selon la 2ème rédaction\")\n",
    "\n",
    "for i in L:\n",
    "    print(\"le type de i est : \",type(i))\n",
    "    print(\"et sa valeur est : \",i)"
   ]
  },
  {
   "cell_type": "markdown",
   "id": "3e0a34e5",
   "metadata": {},
   "source": [
    "<div class=\"panel panel-default\">\n",
    "    <div class=\"panel-heading\"><h2>RÉDIGER UN SCRIPT</h2></div>\n",
    "    <div class=\"panel-body\">\n",
    "    \n",
    "Dans cette partie, je vous propose de régier un script dans un but qui sera précisé. En faisant un seul clic \"gauche\" sur \"la solution\", vous aurez accès à une ... solution !\n",
    "    </div>\n",
    "</div>"
   ]
  },
  {
   "cell_type": "markdown",
   "id": "03af9dbb",
   "metadata": {},
   "source": [
    "<div class=\"alert alert-warning\">\n",
    "    <h3><b>ROUND : une fonction native bien utile</b></h3>\n",
    "<br>\n",
    "\n",
    "En physique ou en chimie, il n'est pas rare de devoir afficher un résultat avec un nombre de chiffres significatifs bien précis. La fonction `round` permet de rendre la chose possible. C'est une fonction dite <i>native</i> (comme `print`ou `input`) car \"livrée\" avec la version \"basique\" de Python. Il est donc inutile d'importer une bibliothèque spécifique.\n",
    "<br><br>\n",
    "    <h3>La fonction `round` contient deux arguments :</h3><br>\n",
    "    <center><h2>`round(nom de la variable à arrondir, nombre de décimales)`\n",
    "        </h2></center>\n",
    "\n",
    "<h3 style=\"color:#FF0000\" ;>ATTENTION : le nombre de décimales correspond au nombre de chiffres après la virgule et non au nombre de chiffres significatifs.</h3>    \n",
    "</div>"
   ]
  },
  {
   "cell_type": "markdown",
   "id": "227c5e11",
   "metadata": {},
   "source": [
    "Dans le bloc suivant, <b>remplacer</b> les expressions `------SAISIR LE SCRIPT-------` par des scripts qui :\n",
    "1. <b>attribuent</b> à <i>y</i> l'expression <i>0,5 $\\times$g$\\times$t$^2$</i>\n",
    "2. <b>affichent</b> la valeur de <i>y</i> arrondie à 3 décimales pour chaque valeur de <i>t</i> correspondante et variant entre 0 et 9 par pas de 1\n"
   ]
  },
  {
   "cell_type": "code",
   "execution_count": null,
   "id": "53b6b164",
   "metadata": {
    "scrolled": true
   },
   "outputs": [],
   "source": [
    "g = 9.81\n",
    "for t in ------SAISIR LE SCRIPT-------:\n",
    "    y = ------SAISIR LE SCRIPT-------\n",
    "    print(\"quand t = \",t,\" alors y vaut : \", ------SAISIR LE SCRIPT-------)\n"
   ]
  },
  {
   "cell_type": "markdown",
   "id": "c62e11e3",
   "metadata": {},
   "source": [
    "<details>\n",
    "<summary>  <b> > Cliquer UNE FOIS sur le mot SOLUTION pour faire apparaître une solution</b> </summary>\n",
    "\n",
    "<br>\n",
    "\n",
    "```\n",
    "g = 9.81\n",
    "for t in range(10):\n",
    "    y = 0.5*g*t**2\n",
    "    print(\"quand t = \",t,\" alors y vaut : \", round(y,2))\n",
    "```\n",
    "</details>"
   ]
  },
  {
   "cell_type": "markdown",
   "id": "4be65913",
   "metadata": {},
   "source": [
    "On souhaite modifier le script précédent en créant une LISTE appelée Y et dans laquelle seront stockées les 9 valeurs précédentes.\n",
    "<br>\n",
    "Dans le bloc suivant, <b>remplacer</b> les expressions `------SAISIR LE SCRIPT-------` par des scripts adatpés.\n"
   ]
  },
  {
   "cell_type": "code",
   "execution_count": null,
   "id": "fcbc02fb",
   "metadata": {
    "scrolled": true
   },
   "outputs": [],
   "source": [
    "g = 9.81\n",
    "------SAISIR LE SCRIPT------- #Créer une liste vide appelée Y dont le contenu augmentera à chaque itération\n",
    "for t in ------SAISIR LE SCRIPT-------:\n",
    "    y = ------SAISIR LE SCRIPT------- #attribuer à la variable y la valeur calculée à partir de la valeur de t\n",
    "    ------SAISIR LE SCRIPT------- #ajouter la valeur y à la liste Y\n",
    "\n",
    "print(\"La liste Y contient les éléments suivants arrondis à 2 décimales : \", Y)\n"
   ]
  },
  {
   "cell_type": "markdown",
   "id": "a091056e",
   "metadata": {},
   "source": [
    "<details>\n",
    "<summary>  <b> > Cliquer UNE FOIS sur le mot SOLUTION pour faire apparaître une solution</b> </summary>\n",
    "\n",
    "<br>\n",
    "\n",
    "```\n",
    "g = 9.81\n",
    "Y = []\n",
    "for t in range(10):\n",
    "    y = 0.5*g*t**2\n",
    "    Y.append(round(y,2))\n",
    "\n",
    "print(\"La liste Y contient les éléments : \", Y)\n",
    "```\n",
    "</details>"
   ]
  },
  {
   "cell_type": "markdown",
   "id": "77e6a5cf",
   "metadata": {},
   "source": [
    "<div class=\"panel panel-default\">\n",
    "    <div class=\"panel-heading\"><h2>RÉDIGER UN SCRIPT</h2></div>\n",
    "    <div class=\"panel-body\">\n",
    "    \n",
    "Dans cette partie, je vous propose de rédiger un script dans un but qui sera précisé. En faisant un seul clic \"gauche\" sur \"la solution\", vous aurez accès à une ... solution !\n",
    "</div>"
   ]
  },
  {
   "cell_type": "markdown",
   "id": "5151e536",
   "metadata": {},
   "source": [
    "Il vous est demandé de rédiger un script :\n",
    "- demandant à l'utlisatrice/l'utilisateur de saisir un nombre compris entre 1 et 100 (au sens large) ;\n",
    "- cette demande est répétée tant que le nombre donné n'est pas compris entre 1 et 100 (au sens large) ;\n",
    "- d'afficher le texte \"Bonjour, votre nombre est \" suivi de la valeur du nombre choisi entre 1 et 100"
   ]
  },
  {
   "cell_type": "code",
   "execution_count": null,
   "id": "a45ceeef",
   "metadata": {},
   "outputs": [],
   "source": [
    "#Saisir ci-dessous le script attendu\n"
   ]
  },
  {
   "cell_type": "markdown",
   "id": "0c2c4852",
   "metadata": {},
   "source": [
    "<details>\n",
    "    <summary><b>Cliquer UNE FOIS sur le mot SOLUTION pour faire apparaître une solution</b></summary>\n",
    "\n",
    "```\n",
    "a=0\n",
    "while (a<1) or (a>100):\n",
    "    a=int(input(\"Saisir un nombre entier compris entre 1 et 100 : \"))\n",
    "print(\"Bonjour, votre nombre est : \",a,)\n",
    "``` \n",
    "\n",
    "<h4><i>ou alors, une version plus compacte et plus élégante :</i></h4><br>\n",
    "\n",
    "```\n",
    "a=0\n",
    "while not (1<=a<=100) :\n",
    "    a=int(input(\"Saisir un nombre entier compris entre 1 et 100 : \"))\n",
    "print(\"Bonjour, votre nombre est : \",a,)\n",
    "```\n",
    "</details>\n"
   ]
  },
  {
   "cell_type": "code",
   "execution_count": null,
   "id": "3530d9f0",
   "metadata": {},
   "outputs": [],
   "source": []
  }
 ],
 "metadata": {
  "jupytext": {
   "cell_metadata_filter": "all, -hidden, -heading_collapsed, -run_control, -trusted",
   "notebook_metadata_filter": "all, -jupytext.text_representation.jupytext_version, -jupytext.text_representation.format_version, -language_info.version, -language_info.codemirror_mode.version, -language_info.codemirror_mode, -language_info.file_extension, -language_info.mimetype, -toc",
   "text_representation": {
    "extension": ".md",
    "format_name": "myst"
   }
  },
  "kernelspec": {
   "display_name": "Python 3",
   "language": "python",
   "name": "python3"
  },
  "language_info": {
   "codemirror_mode": {
    "name": "ipython",
    "version": 3
   },
   "file_extension": ".py",
   "mimetype": "text/x-python",
   "name": "python",
   "nbconvert_exporter": "python",
   "pygments_lexer": "ipython3",
   "version": "3.8.8"
  },
  "notebookname": "Noms de variables",
  "version": "3.0"
 },
 "nbformat": 4,
 "nbformat_minor": 5
}
